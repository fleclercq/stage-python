{
 "cells": [
  {
   "cell_type": "markdown",
   "metadata": {},
   "source": [
    "# Simulation et hasard\n",
    "\n",
    "Nous sommes en présence de vieux stock de grains de blé à semer et nous cherchons à étudier le pouvoir germinatif des grains qu’il contient. C’est-à-dire le pourcentage des grains qui vont germer lorsqu’ils seront plantés. \n",
    "\n",
    "Prenons $x$ grains de blé et posons-les sur du papier filtre dans une boîte de Petri. Mouillons le papier filtre et gardons le tout à la lumière et à bonne température (24 °C). Au bout de 2 jours, le grain devrait germer. Si au bout de 5 jours, le grain ne germe pas, on considère qu’il ne germera jamais. S’il germe mal (pas de racine ou pas de feuille), on considère qu’il ne germe pas.\n",
    "\n",
    "Le problème est de savoir comment conclure à partir du résultat de cette expérience. En effet, il y a une part de hasard lors de la prise des grains et il y aura une fluctuation des résultats selon l’échantillon choisi.\n",
    "\n",
    "Établissons un plan d’attaque du problème.\n",
    "\n",
    "- Regardons, tout d’abord, comment faire à partir d’un stock connu dont le pouvoir germinatif est de 50 %.\n",
    "- Puis, étudions ce qui se passe à partir d’un stock connu dont le pouvoir germinatif n’est pas de 50 %, par exemple 75 %.\n",
    "- Enfin, étudions ce qui arrive avec un échantillon de graines suffisamment grand.\n"
   ]
  },
  {
   "cell_type": "markdown",
   "metadata": {},
   "source": [
    "# Première Partie : Le pouvoir germinatif est connu et vaut 50 %\n",
    "\n",
    "## Exercice 1\n",
    "\n",
    "Prenons un échantillon de 2 grains pour commencer.\n",
    "\n",
    "Soit $G$ l’événement : « le grain germe » et $\\overline{G}$ l’événement « le grain ne germe pas ». \n",
    "\n",
    "1. à partir de l’arbre des possibles ci-contre, compléter le tableau ci-dessous.\n",
    "<IMG SRC=\"simul1.png\">\n",
    "2. Avec quelle probabilité (fréquence) notre échantillon nous donne le bon pouvoir germinatif ?\n",
    "3. Les autres résultats possibles dans notre échantillon sont-il acceptables ?\n",
    "4.\tÉtablir l’arbre des possibles avec un échantillon de 3 grains et compléter le tableau ci-dessous\n",
    "<IMG SRC=\"simul2.png\">\n",
    "5.\tA-t-on une chance d’obtenir le pouvoir germinatif du sac avec 3 grains ?\n"
   ]
  },
  {
   "cell_type": "markdown",
   "metadata": {},
   "source": [
    "Nous constatons qu’il faut donc prendre davantage de grains dans notre échantillon, mais aussi qu’il semble bien long de le faire à la main.\n",
    "Nous allons étudier cette situation en simulant la germination des grains à l’aide de Python.\n",
    "\n",
    "## Exercice 2 : Première simulation\n",
    "\n",
    "On utilisera les bibliothèques math, numpy, matplotlib.pyplot et pylab pour avoir les fonctions de statistiques et de représentations graphiques.\n"
   ]
  },
  {
   "cell_type": "code",
   "execution_count": 1,
   "metadata": {},
   "outputs": [],
   "source": [
    "from math import *\n",
    "import numpy as np\n",
    "import matplotlib.pyplot as plt\n",
    "import pylab"
   ]
  },
  {
   "cell_type": "markdown",
   "metadata": {},
   "source": [
    "La fonction `np.random.choice` permet de choisir au hasard un élément de la liste donnée avec équiprobabilité. On aurait pu utiliser d’autres fonctions mais celle-ci a d’autres qualités que nous allons découvrir.\n",
    "\n",
    "Essayer les commandes suivantes plusieurs fois et constater que le choix se fait de manière aléatoire en essayant de prédire le résultat.\n"
   ]
  },
  {
   "cell_type": "code",
   "execution_count": 2,
   "metadata": {},
   "outputs": [
    {
     "name": "stdout",
     "output_type": "stream",
     "text": [
      "oui\n"
     ]
    }
   ],
   "source": [
    "germe = np.random.choice([\"non\",\"oui\"])\n",
    "print(germe)"
   ]
  },
  {
   "cell_type": "markdown",
   "metadata": {},
   "source": [
    "Nous avons donc le moyen de simuler si un grain germe ou non.\n",
    "\n",
    "Voyons maintenant comment simuler la germination de 10 grains.\n",
    "Pour cela il faut simplement taper :\n"
   ]
  },
  {
   "cell_type": "code",
   "execution_count": 3,
   "metadata": {},
   "outputs": [
    {
     "name": "stdout",
     "output_type": "stream",
     "text": [
      "['oui' 'oui' 'non' 'oui' 'oui' 'oui' 'oui' 'non' 'oui' 'non']\n"
     ]
    }
   ],
   "source": [
    "germe = np.random.choice([\"non\",\"oui\"],10)\n",
    "print(germe)"
   ]
  },
  {
   "cell_type": "markdown",
   "metadata": {},
   "source": [
    "Essayer les commandes ci-dessus plusieurs fois pour continuer de constater le côté aléatoire.\n",
    "\n",
    "Nous souhaitons compter le nombre de « oui » dans chaque échantillon (on peut écrire un programme mais on souhaite aller plus vite). Nous allons donc ruser et changer le codage de l’état du grain.\n",
    "\n",
    "Comme notre intérêt est d’avoir des grains qui germent, nous codons alors le grain qui germe avec le nombre 1 et le grain qui ne germe pas avec le nombre 0. La raison d’un tel codage est simple, pour compter le nombre de grains qui germent, il suffit d’ajouter tous ces nombres.\n",
    "\n",
    "Essayer les commandes suivantes plusieurs fois pour constater l’efficacité de ce codage.\n"
   ]
  },
  {
   "cell_type": "code",
   "execution_count": 4,
   "metadata": {},
   "outputs": [
    {
     "name": "stdout",
     "output_type": "stream",
     "text": [
      "[1 1 1 0 1 0 0 1 1 1]\n",
      "7\n"
     ]
    }
   ],
   "source": [
    "germe = np.random.choice([0,1],10)\n",
    "print(germe)\n",
    "print(sum(germe))"
   ]
  },
  {
   "cell_type": "markdown",
   "metadata": {},
   "source": [
    "Nous allons maintenant simuler la prise d’un échantillon de 3 grains pour tester le pouvoir germinatif.\n",
    "\n",
    "En utilisant la commande `str(numpy.random.choice([0,1],3))`, nous pouvons simuler cette expérience et l’écrire dans une chaîne de caractères.\n",
    "\n",
    "Écrire un programme permettant de faire 1000 simulations et enregistrons-les toutes dans une liste nommées expériences. Afficher la liste en fin de programme."
   ]
  },
  {
   "cell_type": "code",
   "execution_count": 5,
   "metadata": {},
   "outputs": [
    {
     "name": "stdout",
     "output_type": "stream",
     "text": [
      "['[0 1 1]', '[1 1 0]', '[0 0 1]', '[0 0 1]', '[0 0 1]', '[0 1 0]', '[1 1 0]', '[1 0 0]', '[1 0 1]', '[1 0 1]', '[1 0 1]', '[0 0 1]', '[1 1 0]', '[1 0 1]', '[1 1 0]', '[0 1 0]', '[1 1 0]', '[0 1 0]', '[0 1 1]', '[1 0 0]', '[0 1 0]', '[0 1 1]', '[1 0 1]', '[0 0 1]', '[1 1 1]', '[0 0 0]', '[1 0 0]', '[1 0 1]', '[0 0 1]', '[1 0 1]', '[1 1 0]', '[0 1 1]', '[1 1 0]', '[1 0 1]', '[1 0 1]', '[0 1 0]', '[1 1 1]', '[0 1 1]', '[1 1 0]', '[1 0 1]', '[0 0 1]', '[0 0 0]', '[0 0 0]', '[1 1 0]', '[1 1 0]', '[1 0 0]', '[1 1 1]', '[0 1 0]', '[0 0 1]', '[0 1 0]', '[1 0 0]', '[1 0 1]', '[1 1 1]', '[0 1 0]', '[0 1 1]', '[1 1 1]', '[0 1 0]', '[0 0 0]', '[0 1 0]', '[0 0 1]', '[1 0 0]', '[1 1 0]', '[0 1 0]', '[1 1 1]', '[0 1 0]', '[1 0 1]', '[1 1 1]', '[1 0 1]', '[1 1 1]', '[1 1 1]', '[1 0 0]', '[0 1 0]', '[1 0 1]', '[0 1 0]', '[0 1 1]', '[0 1 1]', '[0 1 0]', '[0 0 0]', '[1 0 1]', '[1 0 0]', '[0 1 0]', '[0 0 0]', '[0 1 0]', '[0 0 1]', '[1 1 0]', '[0 0 0]', '[0 1 1]', '[1 0 1]', '[0 0 1]', '[1 1 1]', '[1 0 1]', '[0 1 1]', '[1 0 1]', '[1 0 0]', '[1 0 0]', '[0 1 0]', '[1 1 0]', '[1 0 1]', '[0 0 1]', '[0 0 0]', '[1 0 0]', '[1 1 1]', '[1 0 1]', '[0 0 1]', '[1 1 1]', '[1 1 0]', '[0 0 0]', '[1 1 1]', '[1 0 0]', '[1 1 1]', '[0 0 1]', '[0 0 0]', '[0 1 1]', '[0 0 0]', '[1 0 0]', '[0 0 0]', '[0 1 0]', '[0 1 1]', '[1 0 1]', '[1 1 1]', '[1 0 0]', '[0 1 0]', '[0 0 1]', '[1 0 0]', '[1 1 0]', '[1 1 1]', '[0 0 1]', '[0 0 0]', '[0 0 1]', '[1 1 0]', '[1 1 0]', '[0 0 1]', '[1 1 1]', '[0 0 1]', '[0 0 1]', '[0 1 1]', '[1 1 0]', '[1 1 1]', '[1 0 0]', '[1 1 1]', '[0 0 1]', '[1 0 0]', '[0 0 1]', '[0 1 0]', '[1 1 0]', '[0 1 0]', '[0 0 0]', '[1 1 0]', '[1 1 1]', '[1 0 0]', '[0 1 0]', '[0 0 0]', '[0 1 0]', '[1 1 0]', '[1 1 0]', '[1 1 0]', '[1 0 1]', '[0 0 0]', '[0 0 1]', '[0 0 0]', '[1 0 0]', '[0 0 0]', '[0 0 0]', '[1 0 1]', '[0 1 1]', '[0 0 1]', '[1 0 1]', '[1 0 0]', '[1 1 1]', '[0 0 0]', '[0 1 1]', '[1 0 1]', '[1 0 1]', '[0 0 1]', '[1 0 0]', '[1 0 0]', '[0 1 1]', '[0 0 0]', '[1 1 1]', '[1 0 0]', '[1 0 1]', '[0 0 1]', '[1 0 1]', '[1 0 1]', '[1 1 1]', '[0 1 1]', '[0 0 1]', '[0 1 0]', '[1 0 0]', '[0 1 0]', '[1 0 1]', '[1 0 0]', '[0 1 1]', '[1 1 0]', '[0 1 1]', '[1 0 1]', '[1 1 1]', '[0 1 1]', '[1 0 0]', '[1 0 1]', '[0 1 0]', '[0 0 1]', '[0 0 1]', '[0 1 1]', '[1 0 0]', '[0 0 0]', '[1 1 0]', '[0 1 1]', '[0 0 0]', '[1 1 0]', '[0 1 1]', '[1 1 1]', '[0 0 0]', '[0 1 1]', '[0 1 0]', '[1 0 1]', '[1 0 1]', '[0 1 1]', '[0 0 1]', '[1 0 0]', '[0 0 1]', '[1 0 0]', '[1 0 1]', '[1 0 0]', '[0 1 0]', '[1 0 1]', '[1 0 0]', '[1 1 1]', '[0 0 0]', '[1 1 1]', '[1 0 0]', '[0 0 0]', '[0 0 1]', '[1 1 0]', '[1 0 0]', '[1 1 0]', '[0 1 1]', '[0 1 1]', '[1 1 0]', '[1 1 1]', '[1 1 0]', '[1 1 1]', '[0 1 1]', '[0 1 1]', '[0 0 0]', '[1 0 1]', '[1 0 1]', '[0 0 0]', '[1 1 1]', '[0 1 1]', '[1 0 1]', '[1 0 0]', '[0 1 0]', '[1 1 1]', '[0 1 1]', '[0 1 1]', '[0 1 1]', '[0 0 1]', '[0 1 0]', '[1 1 0]', '[0 1 0]', '[1 0 1]', '[0 0 0]', '[1 1 1]', '[0 0 0]', '[0 0 1]', '[1 1 0]', '[0 1 0]', '[1 1 1]', '[0 1 0]', '[0 0 1]', '[0 0 1]', '[0 0 1]', '[0 0 1]', '[0 0 1]', '[0 1 0]', '[0 0 1]', '[1 1 0]', '[1 1 1]', '[1 1 1]', '[0 1 0]', '[1 0 0]', '[0 0 0]', '[1 1 1]', '[1 0 1]', '[1 0 0]', '[0 1 0]', '[1 1 1]', '[1 0 0]', '[0 0 1]', '[1 0 0]', '[0 0 0]', '[1 1 0]', '[0 1 0]', '[1 1 1]', '[1 1 1]', '[0 0 0]', '[0 1 1]', '[1 0 1]', '[1 0 0]', '[1 1 0]', '[0 1 1]', '[1 1 0]', '[1 0 0]', '[0 0 0]', '[0 0 1]', '[1 1 1]', '[0 1 0]', '[1 0 1]', '[0 1 1]', '[1 1 0]', '[0 1 0]', '[0 1 1]', '[1 0 1]', '[0 0 1]', '[1 1 0]', '[1 1 0]', '[1 0 1]', '[1 0 1]', '[1 1 0]', '[0 0 1]', '[0 1 0]', '[1 0 1]', '[0 0 1]', '[1 0 1]', '[0 0 1]', '[1 0 0]', '[1 1 0]', '[1 1 1]', '[1 1 0]', '[1 0 1]', '[0 0 0]', '[0 0 0]', '[1 1 1]', '[1 0 0]', '[0 1 0]', '[0 0 0]', '[0 1 0]', '[0 1 1]', '[0 1 1]', '[0 0 0]', '[1 0 0]', '[1 0 0]', '[0 0 1]', '[0 0 0]', '[0 1 0]', '[0 1 0]', '[1 0 0]', '[0 0 0]', '[0 1 0]', '[1 0 0]', '[0 0 1]', '[0 1 1]', '[1 1 1]', '[0 1 1]', '[1 1 0]', '[1 0 1]', '[1 1 1]', '[1 1 0]', '[0 0 1]', '[0 1 1]', '[1 1 1]', '[1 1 0]', '[0 0 0]', '[1 0 1]', '[0 1 1]', '[1 0 1]', '[0 0 0]', '[1 1 1]', '[0 0 0]', '[1 1 0]', '[1 0 0]', '[0 0 0]', '[0 0 0]', '[0 0 0]', '[1 0 0]', '[1 0 1]', '[0 1 1]', '[0 1 1]', '[0 1 0]', '[0 0 0]', '[0 1 1]', '[0 0 0]', '[1 1 0]', '[0 0 1]', '[0 1 1]', '[0 0 0]', '[0 1 0]', '[1 1 1]', '[1 1 0]', '[1 1 1]', '[0 1 0]', '[1 1 0]', '[0 1 0]', '[0 1 1]', '[1 1 1]', '[0 0 1]', '[1 1 1]', '[1 1 1]', '[1 1 0]', '[0 1 1]', '[1 0 1]', '[1 1 1]', '[0 1 0]', '[0 1 1]', '[1 1 1]', '[1 1 0]', '[1 1 0]', '[1 1 0]', '[0 1 1]', '[1 0 1]', '[0 0 1]', '[0 1 1]', '[1 1 0]', '[1 1 1]', '[1 1 1]', '[0 0 1]', '[0 0 1]', '[1 0 1]', '[1 1 0]', '[1 1 1]', '[0 0 0]', '[1 0 1]', '[1 1 0]', '[0 0 1]', '[0 1 0]', '[1 0 0]', '[0 0 1]', '[1 0 1]', '[0 0 1]', '[0 0 0]', '[0 1 0]', '[0 1 1]', '[0 1 0]', '[1 0 1]', '[1 0 0]', '[0 1 1]', '[0 0 1]', '[0 1 1]', '[0 1 1]', '[0 1 1]', '[0 1 1]', '[0 0 0]', '[1 1 0]', '[0 1 1]', '[0 0 1]', '[1 1 1]', '[1 1 1]', '[0 0 1]', '[1 0 1]', '[1 1 1]', '[0 1 0]', '[1 1 1]', '[0 1 0]', '[0 1 0]', '[1 1 1]', '[1 1 0]', '[1 1 1]', '[1 0 0]', '[0 0 0]', '[1 1 0]', '[1 1 1]', '[0 0 0]', '[0 0 1]', '[0 0 0]', '[1 0 1]', '[1 1 1]', '[1 1 0]', '[1 1 1]', '[1 0 0]', '[1 1 0]', '[1 1 1]', '[1 0 1]', '[1 0 0]', '[0 0 0]', '[0 1 0]', '[0 0 0]', '[1 0 1]', '[1 0 0]', '[1 0 1]', '[0 0 0]', '[1 0 1]', '[0 1 1]', '[1 1 0]', '[1 0 0]', '[0 1 0]', '[1 0 1]', '[0 0 1]', '[1 0 0]', '[0 1 0]', '[1 0 1]', '[0 0 0]', '[1 1 1]', '[0 1 0]', '[1 1 0]', '[1 0 1]', '[0 0 0]', '[0 1 0]', '[0 0 0]', '[0 0 1]', '[1 1 1]', '[0 0 0]', '[1 1 1]', '[1 0 1]', '[1 0 1]', '[0 0 1]', '[1 0 0]', '[1 1 1]', '[0 0 0]', '[0 0 0]', '[1 1 1]', '[0 0 0]', '[0 1 0]', '[1 0 1]', '[0 1 1]', '[1 0 0]', '[1 0 0]', '[0 1 1]', '[1 1 0]', '[1 1 1]', '[0 0 1]', '[0 1 0]', '[1 0 0]', '[1 1 1]', '[0 0 1]', '[0 1 1]', '[0 0 0]', '[1 1 0]', '[1 0 0]', '[1 1 1]', '[0 1 0]', '[1 0 1]', '[0 1 0]', '[0 0 0]', '[0 0 1]', '[1 0 1]', '[1 0 0]', '[0 1 1]', '[1 0 0]', '[1 0 0]', '[1 0 1]', '[0 0 0]', '[0 1 1]', '[1 0 0]', '[1 1 1]', '[1 1 1]', '[0 1 0]', '[0 0 0]', '[1 0 1]', '[1 0 1]', '[1 1 1]', '[0 0 0]', '[1 1 1]', '[1 0 1]', '[0 0 0]', '[0 0 1]', '[1 1 1]', '[1 1 1]', '[1 0 0]', '[0 0 1]', '[0 1 0]', '[0 0 0]', '[0 1 1]', '[1 0 0]', '[0 0 0]', '[0 0 1]', '[0 1 1]', '[0 0 0]', '[0 0 1]', '[0 0 1]', '[1 0 1]', '[0 1 0]', '[0 1 1]', '[0 0 0]', '[0 0 0]', '[1 1 0]', '[1 1 1]', '[0 0 1]', '[0 1 1]', '[1 1 1]', '[0 0 1]', '[1 1 0]', '[1 1 0]', '[0 1 0]', '[1 0 0]', '[0 1 1]', '[1 0 1]', '[1 1 0]', '[1 0 1]', '[0 0 0]', '[0 1 1]', '[0 1 1]', '[1 0 0]', '[1 0 1]', '[1 1 1]', '[0 0 1]', '[0 0 1]', '[1 0 1]', '[1 0 1]', '[0 1 0]', '[1 0 1]', '[0 0 1]', '[0 1 0]', '[1 0 1]', '[0 0 1]', '[0 1 1]', '[1 0 1]', '[1 1 1]', '[0 0 0]', '[0 0 1]', '[1 1 0]', '[1 0 0]', '[1 1 1]', '[1 1 0]', '[0 0 0]', '[0 1 1]', '[1 0 0]', '[1 1 0]', '[1 0 1]', '[1 0 1]', '[1 0 1]', '[1 1 1]', '[0 0 0]', '[0 1 0]', '[0 1 0]', '[1 1 0]', '[1 0 1]', '[0 1 1]', '[0 1 1]', '[0 0 0]', '[0 1 1]', '[1 0 1]', '[1 1 0]', '[1 0 0]', '[1 1 1]', '[0 1 1]', '[0 0 0]', '[0 1 1]', '[1 1 0]', '[0 0 0]', '[1 1 1]', '[0 0 1]', '[1 0 1]', '[0 0 1]', '[1 1 1]', '[1 1 1]', '[0 0 0]', '[1 1 1]', '[1 1 1]', '[0 0 1]', '[0 1 1]', '[0 0 0]', '[1 1 0]', '[0 1 1]', '[0 1 1]', '[0 1 1]', '[0 1 1]', '[0 1 1]', '[1 0 1]', '[0 1 1]', '[1 1 0]', '[0 0 0]', '[0 0 0]', '[1 1 0]', '[1 1 1]', '[1 0 1]', '[1 0 1]', '[0 1 0]', '[1 1 0]', '[1 1 1]', '[0 0 1]', '[0 1 0]', '[0 0 0]', '[1 1 1]', '[1 0 0]', '[0 0 1]', '[1 1 0]', '[0 1 0]', '[0 1 1]', '[1 1 1]', '[0 1 1]', '[0 0 0]', '[1 1 0]', '[1 1 1]', '[0 1 1]', '[0 1 1]', '[1 1 1]', '[1 1 0]', '[0 1 1]', '[1 1 1]', '[1 1 1]', '[0 0 1]', '[1 1 0]', '[0 0 1]', '[1 0 0]', '[1 1 0]', '[0 1 0]', '[0 1 0]', '[1 1 1]', '[1 1 1]', '[1 0 1]', '[0 0 1]', '[1 0 0]', '[0 1 1]', '[1 0 1]', '[0 1 0]', '[1 0 0]', '[0 1 1]', '[1 1 0]', '[1 0 1]', '[0 1 1]', '[0 0 0]', '[1 1 1]', '[1 0 0]', '[1 0 0]', '[1 1 0]', '[0 1 1]', '[1 0 1]', '[0 1 1]', '[1 0 0]', '[1 0 0]', '[0 0 0]', '[0 1 1]', '[0 1 1]', '[0 1 0]', '[1 1 1]', '[1 1 0]', '[0 1 1]', '[0 0 1]', '[1 1 1]', '[1 0 1]', '[0 0 0]', '[1 0 1]', '[0 1 0]', '[1 1 1]', '[0 1 1]', '[1 1 0]', '[0 1 0]', '[1 1 1]', '[0 1 1]', '[0 1 0]', '[0 0 1]', '[1 0 1]', '[0 1 0]', '[1 0 1]', '[0 1 0]', '[1 1 0]', '[1 1 0]', '[1 1 0]', '[1 1 1]', '[0 1 0]', '[1 1 1]', '[1 1 0]', '[1 0 1]', '[0 0 0]', '[0 0 0]', '[0 1 0]', '[0 1 1]', '[0 1 1]', '[0 1 0]', '[0 1 1]', '[1 1 0]', '[1 0 1]', '[1 1 0]', '[1 0 0]', '[1 0 0]', '[1 0 1]', '[1 1 1]', '[1 1 1]', '[1 1 0]', '[1 0 0]', '[0 0 1]', '[0 1 1]', '[0 1 1]', '[0 1 1]', '[0 0 0]', '[1 1 1]', '[0 0 0]', '[1 0 1]', '[0 0 0]', '[1 0 0]', '[0 1 0]', '[0 0 0]', '[0 0 1]', '[1 1 0]', '[0 1 0]', '[1 1 1]', '[1 1 0]', '[0 0 1]', '[1 0 0]', '[1 0 0]', '[1 0 0]', '[1 0 0]', '[1 1 0]', '[0 0 0]', '[1 1 0]', '[1 1 1]', '[1 0 0]', '[1 1 1]', '[1 0 0]', '[1 0 1]', '[1 0 1]', '[0 1 0]', '[1 0 1]', '[0 0 1]', '[0 1 1]', '[0 0 1]', '[1 1 0]', '[1 1 1]', '[1 0 1]', '[1 0 1]', '[1 1 0]', '[1 0 1]', '[0 1 0]', '[0 1 1]', '[1 0 1]', '[0 1 1]', '[0 0 0]', '[0 0 1]', '[1 0 0]', '[0 1 1]', '[1 0 1]', '[0 0 0]', '[0 1 0]', '[0 0 1]', '[1 0 1]', '[0 0 1]', '[1 1 0]', '[0 0 0]', '[0 1 1]', '[1 1 1]', '[1 1 0]', '[1 1 1]', '[0 1 1]', '[0 1 0]', '[0 0 1]', '[1 0 1]', '[0 1 0]', '[1 0 1]', '[1 1 0]', '[0 0 1]', '[0 0 0]', '[1 0 1]', '[0 1 0]', '[1 0 0]', '[0 1 1]', '[1 1 0]', '[0 0 0]', '[1 0 1]', '[0 1 1]', '[0 0 0]', '[0 0 0]', '[1 0 0]', '[1 0 1]', '[1 1 1]', '[0 1 1]', '[0 1 0]', '[1 1 1]', '[0 1 1]', '[0 1 0]', '[1 0 1]', '[1 1 1]', '[1 1 1]', '[0 0 0]', '[0 1 1]', '[0 0 0]', '[0 0 0]', '[0 0 0]', '[0 0 1]', '[1 1 0]', '[1 1 0]', '[0 1 1]', '[0 0 1]', '[1 0 1]', '[1 0 1]', '[1 1 0]', '[1 1 1]', '[0 0 0]', '[1 1 1]', '[1 1 0]', '[1 1 1]', '[1 0 1]', '[1 0 1]', '[1 1 0]', '[1 0 1]', '[0 1 0]', '[1 0 1]', '[1 0 1]', '[0 1 0]', '[1 0 1]', '[1 1 0]', '[0 1 0]', '[0 0 0]', '[1 0 0]', '[1 1 0]', '[0 0 0]', '[1 0 1]', '[0 1 1]', '[1 1 1]', '[0 1 0]', '[0 1 0]', '[1 1 1]', '[0 1 1]', '[0 0 0]', '[1 0 1]', '[1 1 1]', '[0 1 1]', '[0 1 0]', '[1 1 0]', '[0 1 0]', '[1 0 0]', '[1 1 1]', '[0 0 0]', '[1 0 1]', '[0 0 1]', '[0 1 0]', '[0 1 0]', '[0 1 1]', '[0 1 0]', '[1 1 1]', '[1 0 0]', '[1 0 1]', '[1 0 0]', '[1 1 1]', '[0 0 0]', '[0 1 1]', '[1 0 0]', '[1 0 1]', '[1 1 1]', '[0 1 0]', '[1 1 1]', '[0 0 1]', '[0 0 0]', '[1 1 1]', '[1 0 1]', '[1 0 0]', '[0 0 1]', '[0 0 0]', '[0 0 1]', '[1 0 1]', '[0 1 0]', '[1 1 1]', '[0 0 0]', '[0 1 0]', '[0 0 0]', '[0 0 0]', '[1 1 1]', '[1 0 1]', '[0 1 1]', '[1 0 1]', '[1 0 1]', '[1 1 1]', '[1 1 1]', '[1 1 1]', '[1 1 0]', '[1 1 1]', '[0 0 0]', '[0 0 1]', '[0 1 0]', '[0 0 0]', '[1 0 0]', '[0 1 1]', '[1 1 0]', '[1 1 1]', '[1 0 1]', '[1 1 1]', '[0 1 1]', '[0 1 1]', '[0 1 1]', '[0 1 0]', '[0 0 1]', '[0 0 0]', '[0 1 0]', '[1 0 0]', '[0 1 1]', '[1 0 0]', '[1 0 0]', '[1 1 0]', '[0 0 1]', '[0 0 1]', '[0 0 0]', '[0 0 1]', '[1 1 1]', '[0 1 0]', '[1 0 0]', '[0 0 0]', '[1 0 1]', '[1 0 0]', '[0 1 1]', '[1 1 1]', '[1 0 1]', '[0 0 1]', '[1 0 0]', '[0 1 0]', '[0 0 1]', '[0 0 1]', '[1 1 0]', '[0 0 1]', '[0 0 1]', '[0 0 0]']\n"
     ]
    }
   ],
   "source": [
    "expériences = [ ]\n",
    "for compteur in range(1000):\n",
    "    expériences.append(str(np.random.choice([0,1],3)))\n",
    "print(expériences)"
   ]
  },
  {
   "cell_type": "markdown",
   "metadata": {},
   "source": [
    "Nous voyons alors tous les chemins que peuvent prendre les expériences en suivant les branches de l’arbre des possibles que nous avons fait dans l’exercice 1.\n",
    "\n",
    "Y a-t-il des branches plus représentées que d’autres ?\n",
    "\n",
    "Pour répondre à cette question, nous allons représenter la répartition des différentes possibilités à l’aide de la fonction suivante."
   ]
  },
  {
   "cell_type": "code",
   "execution_count": 6,
   "metadata": {},
   "outputs": [
    {
     "data": {
      "image/png": "[encoded data removed]",
      "text/plain": [
       "<matplotlib.figure.Figure at 0x18e962e2978>"
      ]
     },
     "metadata": {},
     "output_type": "display_data"
    }
   ],
   "source": [
    "def Graphique(Donnees):\n",
    "    import matplotlib.pyplot as plt\n",
    "    import numpy as np\n",
    "    import pylab\n",
    "    Valeurs=list(sorted(set(expériences))) # set enlève les doublons\n",
    "    Effectifs=[expériences.count(i) for i in Valeurs]\n",
    "    plt.bar(Valeurs, Effectifs)\n",
    "    pylab.xticks(rotation=90)\n",
    "    plt.show()\n",
    "Graphique(expériences)"
   ]
  },
  {
   "cell_type": "markdown",
   "metadata": {},
   "source": [
    "En faisant fonctionner plusieurs fois le programme, que peut-on conjecturer ?\n",
    "\n",
    "Il y a une fluctuation dans les répartitions mais les différentes possibilités sont sensiblement équivalentes. On peut le constater en augmentant le nombre de simulations. \n",
    "\n",
    "Les 8 branches (de la racine à la feuille) sont également représentées.\n",
    "\n",
    "Mais dans le monde réel, les grains n’ont pas autant de chance de germer que de ne pas germer. Nous souhaitons que le plus grand nombre de grains possible germe. "
   ]
  },
  {
   "cell_type": "markdown",
   "metadata": {},
   "source": [
    "# Deuxième Partie : Le pouvoir germinatif est connu et vaut 75 %\n",
    "Vers la loi binomiale\n",
    "## Exercice 3\n",
    "Supposons que dans le sac de grains de blé, 75% puissent germer.\n",
    "\n",
    "1.\tQuelle est dans ce cas la probabilité que le grain ne germe pas ?\n",
    "2.\tSimulons alors l’expérience en imposant les probabilités pour les deux cas avec l’option `p=[0.25,0.75]` dans la fonction `np.random.choice`.\n",
    "\n",
    "Faire fonctionner le programme suivant et interpréter le graphique obtenu.\n"
   ]
  },
  {
   "cell_type": "code",
   "execution_count": 7,
   "metadata": {},
   "outputs": [
    {
     "data": {
      "image/png": "[encoded data removed]",
      "text/plain": [
       "<matplotlib.figure.Figure at 0x18e9529aa58>"
      ]
     },
     "metadata": {},
     "output_type": "display_data"
    }
   ],
   "source": [
    "expériences = [ ]\n",
    "for compteur in range(10000):\n",
    "    expériences.append(str(np.random.choice([0,1],3,p=[0.25,0.75])))\n",
    "Graphique(expériences)"
   ]
  },
  {
   "cell_type": "markdown",
   "metadata": {},
   "source": [
    "Interprétation à l’aide du graphique et de l’arbre pondéré.\n",
    "\n",
    "Quel est le cas le plus fréquent ? Quel est le cas le moins fréquent ? Peut-on l’expliquer à l’aide des fréquences ou probabilités sur les branches de l’arbre ci-dessous ?\n",
    "\n",
    "<IMG SRC=\"simul3.png\">\n",
    "\n",
    "On peut expliquer l’arbre en utilisant les connaissances des élèves sur les proportions de proportions (voir automatismes). Par exemple, pour la deuxième branche, $GG\\overline{G}$, en la lisant de droite à gauche, nous pouvons dire que 25 % des échantillons qui ont vu leurs deux premiers grains germer n’ont pas vu leur dernier grain germer. C’est-à-dire que 25 % des 75 % des échantillons qui ont vu leur premier grain germer ont vu le second germer mais pas le troisième. Et finalement que 25 % des 75 % des 75 % des échantillons ont vu leurs deux premiers grains germer mais pas le troisième.\n",
    "\n",
    "4.\tY a-t-il des cas de même fréquence ? Que peut-on remarquer sur les branches correspondantes ?\n",
    "5.\tComment peut-on l’expliquer \n",
    "6.\tDessiner l’arbre des possibles pour une expérience avec 4 grains de blé. (On pourra compléter l’arbre donné précédemment) Vérifier vos conjectures en modifiant le programme pour faire des simulations avec 4 grains."
   ]
  },
  {
   "cell_type": "code",
   "execution_count": 8,
   "metadata": {},
   "outputs": [
    {
     "data": {
      "image/png": "[encoded data removed]",
      "text/plain": [
       "<matplotlib.figure.Figure at 0x18e9529aac8>"
      ]
     },
     "metadata": {},
     "output_type": "display_data"
    }
   ],
   "source": [
    "expériences = [ ]\n",
    "for compteur in range(10000):\n",
    "    expériences.append(str(np.random.choice([0,1],4,p=[0.25,0.75])))\n",
    "Graphique(expériences)"
   ]
  },
  {
   "cell_type": "markdown",
   "metadata": {},
   "source": [
    "Maintenant, au lieu de regarder les branches choisies par la simulation, regardons le nombre de grains qui germent dans chaque expérience et conservons le tout pour le représenter.\n",
    "\n",
    "Comment modifier le programme précédent pour le faire ?"
   ]
  },
  {
   "cell_type": "code",
   "execution_count": 9,
   "metadata": {},
   "outputs": [
    {
     "data": {
      "image/png": "[encoded data removed]",
      "text/plain": [
       "<matplotlib.figure.Figure at 0x18e962bb518>"
      ]
     },
     "metadata": {},
     "output_type": "display_data"
    }
   ],
   "source": [
    "expériences = [ ]\n",
    "for compteur in range(10000):\n",
    "    expériences.append(sum(np.random.choice([0,1],4,p=[0.25,0.75])))\n",
    "Graphique(expériences)"
   ]
  },
  {
   "cell_type": "markdown",
   "metadata": {},
   "source": [
    "Expliquer comment on peut prédire la hauteur des bâtons à partir de l’arbre.\n",
    "\n",
    "# Troisième Partie : Avec des grands échantillons\n",
    "## Exercice 4\n",
    "Testons maintenant 100 grains pour connaître plus facilement le pouvoir germinatif.\n",
    "\n",
    "Simulons 10000 expériences et affichons la répartition des différents résultats pour des tests de 100 grains avec un pouvoir germinatif de 75%.\n",
    "\n",
    "Écrire le programme correspondant et l’exécuter."
   ]
  },
  {
   "cell_type": "code",
   "execution_count": 10,
   "metadata": {},
   "outputs": [
    {
     "data": {
      "image/png": "[encoded data removed]",
      "text/plain": [
       "<matplotlib.figure.Figure at 0x18e96480940>"
      ]
     },
     "metadata": {},
     "output_type": "display_data"
    }
   ],
   "source": [
    "expériences = [ ]\n",
    "for compteur in range(10000):\n",
    "    expériences.append(sum(np.random.choice([0,1],100,p=[0.25,0.75])))\n",
    "Graphique(expériences)"
   ]
  },
  {
   "cell_type": "markdown",
   "metadata": {},
   "source": [
    "2. D’après le graphique obtenu, est-il possible qu’aucun grain ne germe ? Calculer la fréquence de cet événement à l’aide de la méthode trouvée à l’exercice précédent.\n",
    "3. Est-il possible de n’avoir que 65 grains qui germent alors que le pouvoir germinatif est de 75 % ? Est-il possible d’avoir 85 grains qui germent alors que le pouvoir germinatif est de 75 % ?\n",
    "\n",
    "Cherchons une formule simple pour trouver la variabilité des grains qui germent dans nos échantillons. Nous venons de constater que la fréquence de germination dans l’échantillon est de 75% plus ou moins 10%.\n",
    "\n",
    "Imaginer une formule simple permettant d’obtenir 0,1 = 1/10 (soit 10%) à partir de la taille n=100 de l’échantillon.\n",
    "\n",
    "## Exercice 5 : Intervalle de fluctuation\n",
    "Soit s l’écart type des nombres de grains germés dans les échantillons de l’expérience.\n",
    "\n",
    "1.\tAméliorer le programme suivant pour colorier en vert, les nombres de grains germés compris dans l’intervalle $[75- s ; 75+s]$, en bleu ceux compris dans $[75- 2s ; 75+2s]$ mais pas dans $[75- s ; 75+s]$, en rouge ceux compris dans $[75- 3s ; 75+3s]$ mais pas dans $[75- 2s ; 75+2s]$ et en noir les autres.\n"
   ]
  },
  {
   "cell_type": "code",
   "execution_count": 11,
   "metadata": {},
   "outputs": [
    {
     "data": {
      "image/png": "[encoded data removed]",
      "text/plain": [
       "<matplotlib.figure.Figure at 0x18e96480908>"
      ]
     },
     "metadata": {},
     "output_type": "display_data"
    }
   ],
   "source": [
    "expériences = [ ]\n",
    "for compteur in range(1000):\n",
    "    expériences.append(sum(np.random.choice([0,1],100,p=[0.25,0.75])))\n",
    "std = np.std(expériences) # calcule l’écart type\n",
    "for compteur in range(len(expériences)):\n",
    "    if abs(expériences[compteur]-75)<std:\n",
    "        plt.plot(compteur,expériences[compteur],'g.')\n",
    "    elif abs(expériences[compteur]-75)<2*std:\n",
    "        plt.plot(compteur,expériences[compteur],'b.')\n",
    "    elif abs(expériences[compteur]-75)<3*std:\n",
    "        plt.plot(compteur,expériences[compteur],'r.')\n",
    "    else:\n",
    "        plt.plot(compteur,expériences[compteur],'k.')\n",
    "plt.show()\n"
   ]
  },
  {
   "cell_type": "markdown",
   "metadata": {},
   "source": [
    "2.\tEst-il raisonnable de dire, qu’en général, les nombres de grains germés sont dans l’intervalle $[75- 2s ; 75+2s]$ ?\n",
    "3.\tModifier le programme pour compter le nombre de points verts ou bleus. Quel part de l’expérience totale représentent-ils ?\n"
   ]
  },
  {
   "cell_type": "code",
   "execution_count": 12,
   "metadata": {
    "scrolled": false
   },
   "outputs": [
    {
     "name": "stdout",
     "output_type": "stream",
     "text": [
      "0.944\n"
     ]
    }
   ],
   "source": [
    "CompteurVertBleu = 0\n",
    "for compteur in range(len(expériences)):\n",
    "    if abs(expériences[compteur]-75)<2*std:\n",
    "        CompteurVertBleu = CompteurVertBleu + 1\n",
    "print( CompteurVertBleu / len(expériences) )"
   ]
  },
  {
   "cell_type": "markdown",
   "metadata": {},
   "source": [
    "La part des points verts ou bleus tourne autour de 95 %. Nous avons donc trouvé avec $[75- 2s ; 75+2s]$ un intervalle de fluctuation dans lequel on trouve le nombre de grains germés dans 95 % des échantillons. \n",
    "\n",
    "Que fait le programme suivant ? Comparer le résultat celui de la question précédente.\n"
   ]
  },
  {
   "cell_type": "code",
   "execution_count": 13,
   "metadata": {},
   "outputs": [
    {
     "name": "stdout",
     "output_type": "stream",
     "text": [
      "0.979\n"
     ]
    }
   ],
   "source": [
    "CompteurIntervalle = 0\n",
    "for compteur in range(len(expériences)):\n",
    "    if abs(expériences[compteur]/100-0.75)<0.1:\n",
    "        CompteurIntervalle = CompteurIntervalle + 1\n",
    "print( CompteurIntervalle / len(expériences) )"
   ]
  },
  {
   "cell_type": "markdown",
   "metadata": {},
   "source": [
    "## Exercice 6 : vers une formule simplifiée de l’intervalle de fluctuation\n",
    "Dans l’exercice précédent, nous avons trouvé, en généralisant, que si p est le pouvoir germinatif de nos grains et s l’écart type des échantillons, alors $[p-2s ;p+2s]$ est l’intervalle dans lequel vont fluctuer les fréquences des grains germés dans 95% des échantillons.\n",
    "\n",
    "Mais pour connaître $s$, il faut prendre beaucoup d’échantillons. Un autre candidat pour être un intervalle de fluctuation semble être $[p-1\\sqrt{n} ; p+1\\sqrt{n}]$ dans lequel semble fluctuer les fréquences des grains germés dans plus de 95% des échantillons.\n",
    "\n",
    "Essayons de vérifier le lien.\n",
    "\n",
    "Exécuter le programme suivant ? Que fait-il ?\n"
   ]
  },
  {
   "cell_type": "code",
   "execution_count": 14,
   "metadata": {},
   "outputs": [
    {
     "data": {
      "image/png": "[encoded data removed]",
      "text/plain": [
       "<matplotlib.figure.Figure at 0x18e9636e400>"
      ]
     },
     "metadata": {},
     "output_type": "display_data"
    }
   ],
   "source": [
    "for n in [1000,2000,3000,4000,5000,6000,7000,8000,9000,10000]:\n",
    "    expériences = []\n",
    "    for compteur in range(1000):\n",
    "        expériences.append(sum(np.random.choice([0,1],n,p=[0.25,0.75]))/n)\n",
    "    plt.plot(1/sqrt(n),np.std(expériences),'ro')\n",
    "plt.show()"
   ]
  },
  {
   "cell_type": "markdown",
   "metadata": {},
   "source": [
    "2.\tLes points semblent alignés. Estimer l’équation de cette droite.\n",
    "3.\tEn déduire que $\\frac1{\\sqrt{n}}$ est environ égal à $2s$\n",
    "4.\tEn déduire que pour diviser la dispersion par $k$, on doit multiplier la taille de l’échantillon par $k^2$.\n",
    "5.\tDonner alors une formule d’un intervalle contenant approximativement 95% des pourcentages dans un échantillon de taille $n$.\n",
    "\n",
    "## Conclusion finale\n",
    "\n",
    "+ Combien de grains de blé doit-on prendre dans notre échantillon pour estimer le pouvoir germinatif du blé du sac à 1% près ?\n",
    "+ Est-ce bien raisonnable ? \n",
    "+ Combien de grains à tester trouvez-vous raisonnable de tester ?\n",
    "+ Quelle précision a-t-on alors ?\n"
   ]
  }
 ],
 "metadata": {
  "kernelspec": {
   "display_name": "Python 3",
   "language": "python",
   "name": "python3"
  },
  "language_info": {
   "codemirror_mode": {
    "name": "ipython",
    "version": 3
   },
   "file_extension": ".py",
   "mimetype": "text/x-python",
   "name": "python",
   "nbconvert_exporter": "python",
   "pygments_lexer": "ipython3",
   "version": "3.7.0"
  }
 },
 "nbformat": 4,
 "nbformat_minor": 2
}
