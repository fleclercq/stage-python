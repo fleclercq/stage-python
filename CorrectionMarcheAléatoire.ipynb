{
 "cells": [
  {
   "cell_type": "markdown",
   "metadata": {},
   "source": [
    "[Marche aléatoire](https://fr.wikipedia.org/wiki/Marche_al%C3%A9atoire)"
   ]
  },
  {
   "cell_type": "markdown",
   "metadata": {},
   "source": [
    "## Exercice 1"
   ]
  },
  {
   "cell_type": "markdown",
   "metadata": {},
   "source": [
    "Écrire une fonction **marche(n)** simulant $n$ pas de marche aléatoire puis affichant la position\n",
    "finale. Modifier le programme pour qu’il affiche la liste de toutes les positions intermédiaires."
   ]
  },
  {
   "cell_type": "code",
   "execution_count": 1,
   "metadata": {},
   "outputs": [],
   "source": [
    "from random import *"
   ]
  },
  {
   "cell_type": "code",
   "execution_count": null,
   "metadata": {},
   "outputs": [],
   "source": [
    "def marche(n):\n",
    "    a=0\n",
    "    for i in range(n):\n",
    "        if randint(1,2)==1:\n",
    "            a+=1\n",
    "        else:\n",
    "            a-=1\n",
    "    return a"
   ]
  },
  {
   "cell_type": "code",
   "execution_count": null,
   "metadata": {},
   "outputs": [],
   "source": [
    "marche(100)"
   ]
  },
  {
   "cell_type": "markdown",
   "metadata": {},
   "source": [
    "## Exercice 2"
   ]
  },
  {
   "cell_type": "markdown",
   "metadata": {},
   "source": [
    "Modifier le programme précédent  pour qu’il affiche la liste de toutes les positions intermédiaires."
   ]
  },
  {
   "cell_type": "code",
   "execution_count": null,
   "metadata": {},
   "outputs": [],
   "source": [
    "def marche2(n):\n",
    "    l=[0]\n",
    "    for i in range(n):\n",
    "        if randint(1,2)==1:\n",
    "            l.append(l[-1]+1)\n",
    "        else:\n",
    "            l.append(l[-1]-1)\n",
    "    return l"
   ]
  },
  {
   "cell_type": "code",
   "execution_count": null,
   "metadata": {},
   "outputs": [],
   "source": [
    "marche2(100)"
   ]
  },
  {
   "cell_type": "markdown",
   "metadata": {},
   "source": [
    "## Exercice 3"
   ]
  },
  {
   "cell_type": "markdown",
   "metadata": {},
   "source": [
    "Modifier le programme précédent pour qu’il calcule le nombre de fois où on est repassé par 0\n",
    "au cours de la marche aléatoire, ainsi que la plus grande valeur atteinte. Tester pour différentes\n",
    "valeurs de n."
   ]
  },
  {
   "cell_type": "code",
   "execution_count": null,
   "metadata": {},
   "outputs": [],
   "source": [
    "def marche3(n):\n",
    "    l=marche2(n)\n",
    "    return l.count(0),max(l)"
   ]
  },
  {
   "cell_type": "code",
   "execution_count": null,
   "metadata": {},
   "outputs": [],
   "source": [
    "marche3(100)\n"
   ]
  },
  {
   "cell_type": "markdown",
   "metadata": {},
   "source": [
    "## Exercice  4"
   ]
  },
  {
   "cell_type": "markdown",
   "metadata": {},
   "source": [
    "Calculer la moyenne de toutes les valeurs obtenues pour une marche aléatoire de 1000 étapes.\n",
    "Recommencer avec $10000$ ou $100000$, et commenter les résultats obtenus."
   ]
  },
  {
   "cell_type": "code",
   "execution_count": null,
   "metadata": {},
   "outputs": [],
   "source": [
    "def moyennemarche(n):\n",
    "    l = marche2(n)\n",
    "    print(sum(l))\n",
    "    return sum(l)/float(n)"
   ]
  },
  {
   "cell_type": "code",
   "execution_count": null,
   "metadata": {},
   "outputs": [],
   "source": [
    "moyennemarche(1000)"
   ]
  },
  {
   "cell_type": "markdown",
   "metadata": {},
   "source": [
    "## Exercice  5"
   ]
  },
  {
   "cell_type": "markdown",
   "metadata": {},
   "source": [
    "On cherche désormais à simuler une marche aléatoire en deux dimensions :\n",
    "l’objet se trouve initialement à la position $(0, 0)$ et peut avancer dans une des quatre directions (haut, bas,\n",
    "gauche et droite) avec probabilité $\\dfrac{1}{4}$ à chaque étape. \n",
    "Écrire un programme Python simulant une marche aléatoire de $n$ étapes en deux dimensions."
   ]
  },
  {
   "cell_type": "code",
   "execution_count": null,
   "metadata": {},
   "outputs": [],
   "source": [
    "def marche2d(n):\n",
    "    absc=[0]\n",
    "    ordo=[0]\n",
    "    for i in range(n):\n",
    "        r=randint(1,4)\n",
    "        if r==1:\n",
    "            absc.append(absc[-1]+1)\n",
    "            ordo.append(ordo[-1])\n",
    "        elif r==2:\n",
    "            absc.append(absc[-1])\n",
    "            ordo.append(ordo[-1]+1)\n",
    "        elif r==3:\n",
    "            absc.append(absc[-1]-1)\n",
    "            ordo.append(ordo[-1])\n",
    "        else:\n",
    "            absc.append(absc[-1])\n",
    "            ordo.append(ordo[-1]-1)\n",
    "    plt.plot(absc,ordo)\n",
    "    plt.show()\n",
    "    return absc,ordo"
   ]
  },
  {
   "cell_type": "code",
   "execution_count": null,
   "metadata": {},
   "outputs": [],
   "source": [
    "marche2d(10000000)\n"
   ]
  },
  {
   "cell_type": "markdown",
   "metadata": {},
   "source": [
    "## Exercice  6"
   ]
  },
  {
   "cell_type": "markdown",
   "metadata": {},
   "source": [
    "Tracer la trajectoire obtenue pour une telle marche aléatoire à l’aide de *matplotlib.pyplot*\n",
    "On pourra tester pour différentes valeurs de $n$ pour admirer les résultats obtenus."
   ]
  },
  {
   "cell_type": "markdown",
   "metadata": {},
   "source": [
    "Cet exerice a été fait au dessus ! Une pierre deux coups ;-))"
   ]
  },
  {
   "cell_type": "markdown",
   "metadata": {},
   "source": [
    "## Exercice  7"
   ]
  },
  {
   "cell_type": "markdown",
   "metadata": {},
   "source": [
    "Modifier le programme précédent pour qu’il effectue la marche non plus sur un nombred’étapes donné, \n",
    "mais jusqu’à que l’objet soit revenu à son point de départ. Effectuer plusieurs simulations \n",
    "(il n’est pas impossible que Python plante lors de ces essais) et commenter les résultats obtenus."
   ]
  },
  {
   "cell_type": "code",
   "execution_count": 2,
   "metadata": {},
   "outputs": [],
   "source": [
    "def marche2dbis():\n",
    "    absc=[0]\n",
    "    ordo=[0]\n",
    "    n=0\n",
    "    while not(n>0 and absc[-1]==0 and ordo[-1]==0):\n",
    "        n+=1\n",
    "        r=randint(1,4)\n",
    "        if r==1:\n",
    "            absc.append(absc[-1]+1)\n",
    "            ordo.append(ordo[-1])\n",
    "        elif r==2:\n",
    "            absc.append(absc[-1])\n",
    "            ordo.append(ordo[-1]+1)\n",
    "        elif r==3:\n",
    "            absc.append(absc[-1]-1)\n",
    "            ordo.append(ordo[-1])\n",
    "        else:\n",
    "            absc.append(absc[-1])\n",
    "            ordo.append(ordo[-1]-1)\n",
    "    return n"
   ]
  },
  {
   "cell_type": "code",
   "execution_count": null,
   "metadata": {},
   "outputs": [],
   "source": [
    "marche2dbis()"
   ]
  },
  {
   "cell_type": "markdown",
   "metadata": {},
   "source": [
    "Il est possible que **Python** semble planté mais après quelques essais, j'ai trouvé : $153388$,$2$,$32$,... c'est donc très variable.\n",
    "Le mathématicien hongrois Pólya a démontré en 1921 que, dans le cas d’une marche aléatoire à deux dimensions, la probabilité de repasser par l’origine était égale à 1 (autrement dit, on finira toujours par repasser par 0).\n",
    "Par contre, pour le même problème en dimension 3 (ou plus), cette probabilité n’est plus égale à 1."
   ]
  }
 ],
 "metadata": {
  "kernelspec": {
   "display_name": "Python 3",
   "language": "python",
   "name": "python3"
  },
  "language_info": {
   "codemirror_mode": {
    "name": "ipython",
    "version": 3
   },
   "file_extension": ".py",
   "mimetype": "text/x-python",
   "name": "python",
   "nbconvert_exporter": "python",
   "pygments_lexer": "ipython3",
   "version": "3.7.0"
  }
 },
 "nbformat": 4,
 "nbformat_minor": 2
}
