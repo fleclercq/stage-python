{
 "cells": [
  {
   "cell_type": "markdown",
   "metadata": {},
   "source": [
    "# La méthode de MONTE CARLO "
   ]
  },
  {
   "cell_type": "markdown",
   "metadata": {},
   "source": [
    "[la méthode de monte carlo ](https://fr.wikipedia.org/wiki/M%C3%A9thode_de_Monte-Carlo)"
   ]
  },
  {
   "cell_type": "markdown",
   "metadata": {},
   "source": [
    "On veut déterminer une valeur approchée de l'intégrale $$\\int_{a}^{b}f(x)\\,\\text{d}x$$\n",
    "où f est une fonction continue et positive sur $\\left[ a,b\\right] $\n",
    "On suppose de plus que l'on connait $m$ un majorant de $f$ sur $\\left[ a,b\\right] $"
   ]
  },
  {
   "cell_type": "markdown",
   "metadata": {},
   "source": [
    "<IMG SRC=\"montecarlo.png\">"
   ]
  },
  {
   "cell_type": "markdown",
   "metadata": {},
   "source": [
    "##  Exercice 1"
   ]
  },
  {
   "cell_type": "markdown",
   "metadata": {},
   "source": [
    "Créer une fonction Monte Carlo **monte_carlo(f,a,b,m,N)** qui calcule l’approximation de l’intégrale\n",
    "de f sur [a,b] en appliquant cette méthode.\n",
    "Quelques indications :\n",
    "+ Dans cette fonction, on devra répéter N fois l’opération qui consiste à faire un tirage\n",
    "aléatoire de x et y ;\n",
    "+ Une fois ce tirage effectué, on testera si la condition y <= f (x) est satisfaite ou pas et on\n",
    "augmentera la valeur de P en conséquence ;\n",
    "+ À la fin de la fonction, on renverra la valeur appropriée\n",
    "\n",
    "Tester votre fonction avec une fonction \"lambda\" (anonyme) pour le calcul d'une intégrale simple."
   ]
  },
  {
   "cell_type": "code",
   "execution_count": 2,
   "metadata": {},
   "outputs": [],
   "source": [
    "from random import uniform\n",
    "\n",
    "def monte_carlo(f,a,b,m,N):\n",
    "    P=0\n",
    "    for k in range(N):\n",
    "        x=uniform(a,b)\n",
    "        y=uniform(0,m)\n",
    "        if y<=f(x):\n",
    "            P=P+1\n",
    "    return m*(b-a)*float(P)/N\n"
   ]
  },
  {
   "cell_type": "code",
   "execution_count": 3,
   "metadata": {},
   "outputs": [
    {
     "data": {
      "text/plain": [
       "0.458"
      ]
     },
     "execution_count": 3,
     "metadata": {},
     "output_type": "execute_result"
    }
   ],
   "source": [
    "monte_carlo(lambda x:x,0,1,2,1000)"
   ]
  },
  {
   "cell_type": "markdown",
   "metadata": {},
   "source": [
    "## Exercice 2"
   ]
  },
  {
   "cell_type": "markdown",
   "metadata": {},
   "source": [
    "L’orbite d’écrite par une planète autour du soleil est (en première approximation) une ellipse."
   ]
  },
  {
   "cell_type": "markdown",
   "metadata": {},
   "source": [
    "<IMG SRC=\"orbite.png\">"
   ]
  },
  {
   "cell_type": "markdown",
   "metadata": {},
   "source": [
    "<IMG SRC=\"pluton.png\">"
   ]
  },
  {
   "cell_type": "code",
   "execution_count": 4,
   "metadata": {},
   "outputs": [
    {
     "name": "stdout",
     "output_type": "stream",
     "text": [
      "361.1120852795564\n",
      "356.25660691708254 363.796429285698\n",
      "36594.10681149519\n",
      "35912.80226024636 37070.79331235956\n"
     ]
    }
   ],
   "source": [
    "from math import sqrt,pi,sin,cos\n",
    "# Pour Mercure \n",
    "r1m = 57.9\n",
    "r2m = 56.7\n",
    "f=lambda t:sqrt(r1m**2*sin(t)**2+r2m**2*cos(t)**2)\n",
    "m=sqrt(r1m**2+r2m**2) # cette valeur est un majorant de la fonction f \n",
    "print(monte_carlo(f,0,2*pi,m,10000))\n",
    "print(2*pi*r2m,2*pi*r1m)\n",
    "\n",
    "# Pour pluton \n",
    "r1p=5900 # en 10^6 km \n",
    "r2p=5715.7 # en 10^6 km \n",
    "\n",
    "f=lambda t:sqrt(r1p**2*sin(t)**2+r2p**2*cos(t)**2)\n",
    "m=sqrt(r1p**2+r2p**2) # cette valeur est un majorant de la fonction f \n",
    "print(monte_carlo(f,0,2*pi,m,10000))\n",
    "print(2*pi*r2p,2*pi*r1p)"
   ]
  }
 ],
 "metadata": {
  "kernelspec": {
   "display_name": "Python 3",
   "language": "python",
   "name": "python3"
  },
  "language_info": {
   "codemirror_mode": {
    "name": "ipython",
    "version": 3
   },
   "file_extension": ".py",
   "mimetype": "text/x-python",
   "name": "python",
   "nbconvert_exporter": "python",
   "pygments_lexer": "ipython3",
   "version": "3.7.1"
  }
 },
 "nbformat": 4,
 "nbformat_minor": 2
}
