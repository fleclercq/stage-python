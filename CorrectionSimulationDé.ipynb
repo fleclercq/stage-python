{
 "cells": [
  {
   "cell_type": "markdown",
   "metadata": {},
   "source": [
    "Ces exercices permettent de réaliser des simulatiosn aléatoires avec **Python**.\n",
    "Pour apprendre *efficacement* ne consulter pas trop vite la solution ;-)"
   ]
  },
  {
   "cell_type": "markdown",
   "metadata": {},
   "source": [
    "# Des simulations avec un simple Dé"
   ]
  },
  {
   "cell_type": "markdown",
   "metadata": {},
   "source": [
    "## Exercice 1"
   ]
  },
  {
   "cell_type": "markdown",
   "metadata": {},
   "source": [
    "Écrire une fonction qui simule un lancer de dé équilibré à six faces."
   ]
  },
  {
   "cell_type": "code",
   "execution_count": null,
   "metadata": {},
   "outputs": [],
   "source": [
    "from random import * "
   ]
  },
  {
   "cell_type": "code",
   "execution_count": null,
   "metadata": {},
   "outputs": [],
   "source": [
    "def de() :\n",
    "    return randint(1,6)"
   ]
  },
  {
   "cell_type": "code",
   "execution_count": null,
   "metadata": {},
   "outputs": [],
   "source": [
    "de()"
   ]
  },
  {
   "cell_type": "markdown",
   "metadata": {},
   "source": [
    "## Exercice 2"
   ]
  },
  {
   "cell_type": "markdown",
   "metadata": {},
   "source": [
    "Écrire une fonction **lancerde(n)** qui effectue **n** lancers de dés successifs et retourne une liste\n",
    "contenant le nombre de fois où on est tombé sur chaque face du dé (la liste doit donc contenir\n",
    "six valeurs)."
   ]
  },
  {
   "cell_type": "code",
   "execution_count": null,
   "metadata": {},
   "outputs": [],
   "source": [
    "def lancerde(n) :\n",
    "    liste=[0,0,0,0,0,0]\n",
    "    for i in range(n) :\n",
    "        liste[randint(0,5)]+=1\n",
    "    return liste\n"
   ]
  },
  {
   "cell_type": "code",
   "execution_count": null,
   "metadata": {},
   "outputs": [],
   "source": [
    "lancerde(10)\n"
   ]
  },
  {
   "cell_type": "markdown",
   "metadata": {},
   "source": [
    "## Exercice 3"
   ]
  },
  {
   "cell_type": "markdown",
   "metadata": {},
   "source": [
    "Écrire une fonction **moyennede(n)** qui effectue **n** lancers de dés successifs et retourne la moyenne \n",
    "de tous les résultats obtenus. \n",
    "Tester cette fonction pour n = 10, puis n = 100 etc,jusqu’à ce que les calculs commencent à devenir trop longs. \n",
    "On pourra commenter les résultats obtenus."
   ]
  },
  {
   "cell_type": "markdown",
   "metadata": {},
   "source": [
    "**Première Possibilité** : Il est possible de réutiliser la fonction **de()**"
   ]
  },
  {
   "cell_type": "code",
   "execution_count": null,
   "metadata": {},
   "outputs": [],
   "source": [
    "def moyennede(n) :\n",
    "    s=0\n",
    "    for i in range(n) :\n",
    "        s+=de()\n",
    "    return s/float(n)"
   ]
  },
  {
   "cell_type": "code",
   "execution_count": null,
   "metadata": {},
   "outputs": [],
   "source": [
    "moyennede(10000000)"
   ]
  },
  {
   "cell_type": "markdown",
   "metadata": {},
   "source": [
    "**Deuxième  Possibilité** : Il est possible de réutiliser la fonction **lancerde()**"
   ]
  },
  {
   "cell_type": "code",
   "execution_count": null,
   "metadata": {},
   "outputs": [],
   "source": [
    "def moyennede(n) :\n",
    "    liste=lancerde(n)\n",
    "    return sum((i+1)*liste[i] for i in range(6))/float(n)"
   ]
  },
  {
   "cell_type": "code",
   "execution_count": null,
   "metadata": {},
   "outputs": [],
   "source": [
    "moyennede(1000000)"
   ]
  },
  {
   "cell_type": "markdown",
   "metadata": {},
   "source": [
    "**Commentaires** : Pour $n=100$, on obtient : $3,46$; pour $n=1000$, on obtient $3.51$ ; pour $n=1000000$, on obtient $3.501507$.\n",
    "L'idée est de se rapporcher de l'espérance de la variable aléatoire qui vaut $E(X)=3.5$ "
   ]
  },
  {
   "cell_type": "markdown",
   "metadata": {},
   "source": [
    "## Exercice 4"
   ]
  },
  {
   "cell_type": "markdown",
   "metadata": {},
   "source": [
    "Écrire une fonction **premiersix()** qui effectue des lancers de dés jusqu’à obtenir un 6 et qui affiche\n",
    "le nombre d’essais nécessaires."
   ]
  },
  {
   "cell_type": "code",
   "execution_count": null,
   "metadata": {},
   "outputs": [],
   "source": [
    "def premiersix() :\n",
    "    n=1 #il faut au moins lancer le dé une fois \n",
    "    while de() != 6 :\n",
    "        n+=1\n",
    "    return n"
   ]
  },
  {
   "cell_type": "code",
   "execution_count": null,
   "metadata": {},
   "outputs": [],
   "source": [
    "premiersix()\n"
   ]
  },
  {
   "cell_type": "markdown",
   "metadata": {},
   "source": [
    "## Exercice 5"
   ]
  },
  {
   "cell_type": "markdown",
   "metadata": {},
   "source": [
    "Écrire un programme **geometrique(n)** effectuant **n** fois de suite la fonction premiersix() et\n",
    "qui retourne la liste de tous les résultats obtenus. Effectuer une simulation avec n = 1000 et\n",
    "compter (pas à la main, évidemment), le nombre de fois où on a obtenu la valeur 1 (commenter\n",
    "le résultat). Quelle est la valeur maximale obtenue ?"
   ]
  },
  {
   "cell_type": "code",
   "execution_count": null,
   "metadata": {},
   "outputs": [],
   "source": [
    "def geometrique(n) :\n",
    "    liste=[]\n",
    "    for i in range(n) :\n",
    "        liste.append(premiersix())\n",
    "    return liste.count(1),max(liste)"
   ]
  },
  {
   "cell_type": "code",
   "execution_count": null,
   "metadata": {},
   "outputs": [],
   "source": [
    "geometrique(1000)\n"
   ]
  },
  {
   "cell_type": "markdown",
   "metadata": {},
   "source": [
    "Sur 1000 simulations, j'ai obtenu 166 fois 1 donc $\\dfrac{166}{1000}=0.166 0$ ce qui se rapporche de \n",
    "$\\dfrac{1}{6}$. \n",
    "Le nombre maximal obtenu est 34."
   ]
  },
  {
   "cell_type": "markdown",
   "metadata": {},
   "source": [
    "## Exercice 6"
   ]
  },
  {
   "cell_type": "markdown",
   "metadata": {},
   "source": [
    "Modifier le programme **geometrique(n)** pour qu’il retourne désormais une liste contenant le\n",
    "nombre de fois que chaque valeur de p comprise entre 1 et 100 où p représente le nombre de 1 obtenu lors des *n* simulations.Cette liste commencera par 0 car il faut lancer au moins une fois le dé pour obtenir 1 fois 6"
   ]
  },
  {
   "cell_type": "code",
   "execution_count": null,
   "metadata": {},
   "outputs": [],
   "source": [
    "def geometriquebis(n) :\n",
    "    liste=[0 for i in range(101)]\n",
    "    #print(liste)\n",
    "    for i in range(n) :\n",
    "        liste[premiersix()]+=1\n",
    "    return liste"
   ]
  },
  {
   "cell_type": "code",
   "execution_count": null,
   "metadata": {},
   "outputs": [],
   "source": [
    "geometriquebis(100)"
   ]
  },
  {
   "cell_type": "markdown",
   "metadata": {},
   "source": [
    "## Exercice 7"
   ]
  },
  {
   "cell_type": "markdown",
   "metadata": {},
   "source": [
    "À l’aide du module **matplotlib.pyplot**, tracer une courbe représentant, en fonction de **p**, le\n",
    "nombre de fois où la simulation précédente a pris la valeur p lorsque $n = 10000$. \n",
    "Commenter la courbe obtenue.\n"
   ]
  },
  {
   "cell_type": "code",
   "execution_count": null,
   "metadata": {},
   "outputs": [],
   "source": [
    "import matplotlib.pyplot as plt\n",
    "abscisse=range(1,101)\n",
    "ordonnee=geometriquebis(10000)[1:] # la liste des ordonnée sauf la première \n",
    "plt.plot(abscisse,ordonnee)\n",
    "plt.show()"
   ]
  },
  {
   "cell_type": "markdown",
   "metadata": {},
   "source": [
    "On doit normalement obtenir une courbe qui s’approche d’une **exponentielle décroissante**. \n",
    "Plus le nombre de simulations est grand plus la courbe est **lisse**"
   ]
  }
 ],
 "metadata": {
  "kernelspec": {
   "display_name": "Python 3",
   "language": "python",
   "name": "python3"
  },
  "language_info": {
   "codemirror_mode": {
    "name": "ipython",
    "version": 3
   },
   "file_extension": ".py",
   "mimetype": "text/x-python",
   "name": "python",
   "nbconvert_exporter": "python",
   "pygments_lexer": "ipython3",
   "version": "3.7.0"
  }
 },
 "nbformat": 4,
 "nbformat_minor": 2
}
