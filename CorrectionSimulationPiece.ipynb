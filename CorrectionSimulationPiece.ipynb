{
 "cells": [
  {
   "cell_type": "markdown",
   "metadata": {},
   "source": [
    "Ces exercices permettent de réaliser des simulatiosn aléatoires avec **Python**.\n",
    "Pour apprendre *efficacement* ne consulter pas trop vite la solution ;-)"
   ]
  },
  {
   "cell_type": "markdown",
   "metadata": {},
   "source": [
    "# Lancer de Pièces  "
   ]
  },
  {
   "cell_type": "markdown",
   "metadata": {},
   "source": [
    "## Exercice 1"
   ]
  },
  {
   "cell_type": "markdown",
   "metadata": {},
   "source": [
    "Écrire une fonction **piece(p)** simulant un lancer de pièce déséquilibrée tombant sur Pile\n",
    "avec probabilité p (et donc sur Face avec probabilité 1-p). \n",
    "\n",
    "Par souci de simplicité, le programme pourra retourner la valeur 1 si on tombe sur Pile, et 0 si on tombe sur Face. Il\n",
    "est fortement conseillé d’utiliser intelligemment la fonction random, et on pourra ajouter un\n",
    "message d’erreur si la valeur de p proposée n’est pas comprise entre 0 et 1."
   ]
  },
  {
   "cell_type": "code",
   "execution_count": 1,
   "metadata": {},
   "outputs": [],
   "source": [
    "from random import *"
   ]
  },
  {
   "cell_type": "code",
   "execution_count": 2,
   "metadata": {},
   "outputs": [],
   "source": [
    "def piece(p) :\n",
    "    return int(random()<p) # la fonction random () retourne un nombre flottant compris entre 0 et 1"
   ]
  },
  {
   "cell_type": "code",
   "execution_count": null,
   "metadata": {},
   "outputs": [],
   "source": [
    "piece(0.7)"
   ]
  },
  {
   "cell_type": "markdown",
   "metadata": {},
   "source": [
    "## Exercice 2"
   ]
  },
  {
   "cell_type": "markdown",
   "metadata": {},
   "source": [
    "Écrire une fonction **suitelancers(p,n)** effectuant une série de $n$ lancers de pièces déséquilibrées, et renvoyant le nombre de Piles obtenus. Tester ce programme avec n = 100 et\n",
    "différentes valeurs de $p$.\n",
    "Commenter le résultat."
   ]
  },
  {
   "cell_type": "code",
   "execution_count": 3,
   "metadata": {},
   "outputs": [],
   "source": [
    "def suitelancers(p,n):\n",
    "    if p<0 or p>1 :\n",
    "        return \"impossible, p est une probabilité donc compris entre 0 et 1\"\n",
    "    nbrpile=0\n",
    "    for i in range(n) :\n",
    "        nbrpile+=piece(p)\n",
    "    return nbrpile"
   ]
  },
  {
   "cell_type": "code",
   "execution_count": null,
   "metadata": {},
   "outputs": [],
   "source": [
    "suitelancers(0.4,1000)"
   ]
  },
  {
   "cell_type": "markdown",
   "metadata": {},
   "source": [
    "Pas de surprise, la proportion de piles se rapporche de la valeur $p$. \n",
    "Par exemple, $suitelancers(0.2,1000)$ donne $201$\n",
    "ou $suitelancers(0.4,1000)$ donne $412$"
   ]
  },
  {
   "cell_type": "markdown",
   "metadata": {},
   "source": [
    "## Exercice 3"
   ]
  },
  {
   "cell_type": "markdown",
   "metadata": {},
   "source": [
    "Effectuer $1000$ fois de suite le programme $suitelancers(0.5,5)$ et retranscrire dans une liste\n",
    "le nombre de fois où on a obtenu zéro Pile, une fois  Pile, deux fois Piles, . . ., cinq fois Piles. \n",
    "On pourra commenter les résultats obtenus."
   ]
  },
  {
   "cell_type": "code",
   "execution_count": null,
   "metadata": {},
   "outputs": [],
   "source": [
    "liste=[0,0,0,0,0,0]\n",
    "for i in range(1000) :\n",
    "    liste[suitelancers(0.5,5)]+=1\n",
    "print(liste)"
   ]
  },
  {
   "cell_type": "markdown",
   "metadata": {},
   "source": [
    "Ma simulation me donne la liste suivante : $[25, 153, 301, 322, 161, 37]$. On devrait théoriquement obtenir une liste symétrique (on a autant de chance d’obtenir cinq Piles que pas dePiles, un Pile que quatre Piles etc) et des valeurs nettement plus grandes au milieu de la liste."
   ]
  },
  {
   "cell_type": "markdown",
   "metadata": {},
   "source": [
    "## Exercice 4"
   ]
  },
  {
   "cell_type": "markdown",
   "metadata": {},
   "source": [
    "Effectuer 10 000 fois de suite le programme suitelancers(0.5,20) et représenter avec matplotlib.pyplot le nombre de fois où on a obtenu chaque quantité de Pile possible entre 0 et 20.\n",
    "Commenter."
   ]
  },
  {
   "cell_type": "code",
   "execution_count": 6,
   "metadata": {},
   "outputs": [
    {
     "name": "stdout",
     "output_type": "stream",
     "text": [
      "[0, 0, 0, 0, 0, 0, 0, 0, 0, 0, 0, 0, 0, 0, 0, 0, 0, 0, 0, 0, 0]\n"
     ]
    },
    {
     "data": {
      "image/png": "[encoded data removed]",
      "text/plain": [
       "<Figure size 432x288 with 1 Axes>"
      ]
     },
     "metadata": {
      "needs_background": "light"
     },
     "output_type": "display_data"
    }
   ],
   "source": [
    "import matplotlib.pyplot as plt\n",
    "liste=[0 for i in range(21)]\n",
    "print(liste)\n",
    "for i in range(10000) :\n",
    "    liste[suitelancers(0.5,20)]+=1\n",
    "plt.plot(range(21),liste)\n",
    "plt.show()"
   ]
  },
  {
   "cell_type": "markdown",
   "metadata": {},
   "source": [
    "**Attention** : la courbe doit être symétrique, et prendre des valeurs nettement\n",
    "plus grandes au centre de l’intervalle, avec une allure globale « en cloche »\n",
    "Pas exactement la courbe de *Gauss* mais avec $n$ grand , on va tendre vers ... \n",
    "cf : Theorème de* Moivre-Laplace* "
   ]
  },
  {
   "cell_type": "code",
   "execution_count": null,
   "metadata": {},
   "outputs": [],
   "source": []
  }
 ],
 "metadata": {
  "kernelspec": {
   "display_name": "Python 3",
   "language": "python",
   "name": "python3"
  },
  "language_info": {
   "codemirror_mode": {
    "name": "ipython",
    "version": 3
   },
   "file_extension": ".py",
   "mimetype": "text/x-python",
   "name": "python",
   "nbconvert_exporter": "python",
   "pygments_lexer": "ipython3",
   "version": "3.7.1"
  }
 },
 "nbformat": 4,
 "nbformat_minor": 2
}
