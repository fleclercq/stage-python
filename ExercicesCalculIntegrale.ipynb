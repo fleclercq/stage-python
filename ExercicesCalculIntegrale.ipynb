{
 "cells": [
  {
   "cell_type": "markdown",
   "metadata": {},
   "source": [
    "# Approximation d'intégrales "
   ]
  },
  {
   "cell_type": "markdown",
   "metadata": {},
   "source": [
    "## Méthodes des rectangles"
   ]
  },
  {
   "cell_type": "markdown",
   "metadata": {},
   "source": [
    "Supposons qu'on cherche à calculer une intégrale $\\int_{a}^{b}f(x)\\,\\text{d}x$\n",
    "\n",
    "Rappelons que I est l'aire de la partie du plan située entre l'axe des abscisses et la courbe Cf , entre\n",
    "les abscisses a et b lorque f est positive sur l'intervalle $\\left[ a,b\\right] $\n"
   ]
  },
  {
   "cell_type": "markdown",
   "metadata": {},
   "source": [
    "<IMG SRC=\"integrale.png\">"
   ]
  },
  {
   "cell_type": "markdown",
   "metadata": {},
   "source": [
    "La première idée qui vient à l'esprit est de découper l'aire sous la courbe en tranches,\n",
    "tranches qu'on peut assimiler à de fins rectangles, puis d'additionner les aires de ces\n",
    "rectangles. En prenant des rectangles très nombreux on est en droit d'espérer que le résultat\n",
    "obtenu sera assez proche de la vraie valeur de I."
   ]
  },
  {
   "cell_type": "markdown",
   "metadata": {},
   "source": [
    "Il est à remarquer que l'on peut obtenir une \"minoration\" , une \"majoration\" ou une valeur \"médiane\" en fonction du rectangle choisi"
   ]
  },
  {
   "cell_type": "markdown",
   "metadata": {},
   "source": [
    "<IMG SRC =\"integrale1.png\">"
   ]
  },
  {
   "cell_type": "markdown",
   "metadata": {},
   "source": [
    "## Exercice 1"
   ]
  },
  {
   "cell_type": "markdown",
   "metadata": {},
   "source": [
    "Créer une fonction **methode_rectangle(f,a,b,n)** qui renvoie la valeur approchée\n",
    "$I_n$ de l'intégrale I = avec $n$ rectangles."
   ]
  },
  {
   "cell_type": "markdown",
   "metadata": {},
   "source": [
    "## Exercice 2"
   ]
  },
  {
   "cell_type": "markdown",
   "metadata": {},
   "source": [
    "Faisons mieux que la méthode des rectangles. On peut facilement se figurer que\n",
    "l'erreur commise sera plus faible en approchant notre aire par de fins trapèzes au\n",
    "lieu de rectangles :"
   ]
  },
  {
   "cell_type": "markdown",
   "metadata": {},
   "source": [
    "<IMG SRC=\"trapeze.png\">"
   ]
  },
  {
   "cell_type": "markdown",
   "metadata": {},
   "source": [
    "Créer de même une fonction methode_trapeze(f,a,b,n) qui renvoie la valeur approchée $I'_n$\n",
    "n de l'intégrale $\\int_{a}^{b}f(x)\\,\\text{d}x$  avec n trapèzes."
   ]
  },
  {
   "cell_type": "markdown",
   "metadata": {},
   "source": [
    "# Comparaison des deux methodes précédentes"
   ]
  },
  {
   "cell_type": "markdown",
   "metadata": {},
   "source": [
    "Nous allons travailler avec les deux intégrales suivantes. Leurs valeurs exactes sont impossibles à déterminer, au sens où elles ne peuvent pas s'exprimer pas à l'aide des fonctions usuelles."
   ]
  },
  {
   "cell_type": "markdown",
   "metadata": {},
   "source": [
    "<IMG SRC=\"int3.png\">"
   ]
  },
  {
   "cell_type": "markdown",
   "metadata": {},
   "source": [
    "## Exercice 3"
   ]
  },
  {
   "cell_type": "markdown",
   "metadata": {},
   "source": [
    "Créez dans Python les fonctions $g(x) =\\text{e}^{\\dfrac{-x^2}{2}}$ et $h(x)= \\sin (\\dfrac{1}{x})$\n",
    "puis tracez leurs courbes représentatives sur les intervalles correspondants"
   ]
  },
  {
   "cell_type": "markdown",
   "metadata": {},
   "source": [
    "## Exercice 4"
   ]
  },
  {
   "cell_type": "markdown",
   "metadata": {},
   "source": [
    "Représentez graphiquement avec Python, sur un même graphique, les suites $I_n$\n",
    "et $I'_N$ jusqu'au rang $N$"
   ]
  },
  {
   "cell_type": "code",
   "execution_count": null,
   "metadata": {},
   "outputs": [],
   "source": []
  }
 ],
 "metadata": {
  "kernelspec": {
   "display_name": "Python 3",
   "language": "python",
   "name": "python3"
  },
  "language_info": {
   "codemirror_mode": {
    "name": "ipython",
    "version": 3
   },
   "file_extension": ".py",
   "mimetype": "text/x-python",
   "name": "python",
   "nbconvert_exporter": "python",
   "pygments_lexer": "ipython3",
   "version": "3.7.1"
  }
 },
 "nbformat": 4,
 "nbformat_minor": 2
}
