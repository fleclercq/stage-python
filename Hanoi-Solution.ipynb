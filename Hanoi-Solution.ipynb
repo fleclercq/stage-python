{
 "cells": [
  {
   "cell_type": "markdown",
   "metadata": {},
   "source": [
    "# Les tours de Hanoï\n",
    "\n",
    "Les tours de Hanoï sont un casse-tête composé de trois tours et une pile de disques rangés du plus grand au plus petit comme sur la photo ci-dessous .\n",
    "\n",
    "<IMG SRC=\"Tower_of_Hanoi.jpeg\">\n",
    "    \n",
    "Le but est de déplacer la pile de disques sur la tour de droite en ne déplaçant à chaque fois qu'un seul disque et un disque ne peut pas être posé sur un disque plus petit. Voici une animation de ce qu'il faut faire dans le cas où il y a 4 disques.\n",
    "\n",
    "<IMG SRC=\"Tower_of_Hanoi_4.gif\">\n",
    "\n",
    "## Exercice\n",
    "\n",
    "Résoudre le casse-tête avec 2 disques.\n",
    "\n",
    "## Exercice\n",
    "\n",
    "Résoudre le casse-tête avec 3 disques.\n",
    "\n",
    "## Résolution du problème\n",
    "\n",
    "Nous allons voir qu'il est très simple de créer un programme récursif qui nous dit quoi faire pour résoudre le problème. Tout d'abord on appelle les tours A, B et C. On appelle $n$ le nombre de disque présents au départ dans la tour A. Cherchons un moyen de déplacer les disques en étudiant le problème avec $n=2$ disques. Pour déplacer tous les disques de la tour A vers la tour C, on peut raisonner comme suit :\n",
    "\n",
    "- On déplace 1 disque de A vers la tour B\n",
    "- On déplace le dernier disque de A vers C\n",
    "- On déplace le disque de B vers C\n",
    "\n",
    "Regardez la solution ci-dessous avec trois disques. Retrouve-t-on le même schéma que la solution précédente dans la solution ?\n",
    "\n",
    "<IMG SRC=\"Hanoi3disques.png\">\n",
    "    \n",
    "Pour déplacer les $n=3$ disques de la tour A vers la tour C, on peut raisonner comme suit :\n",
    "\n",
    "- On déplace $n-1=2$ disques de A vers la tour B (étapes 1 à 3 sur la figure ci-dessus)\n",
    "- On déplace le dernier disque de A vers C (étape 4 sur la figure ci-dessus)\n",
    "- On déplace les $n-1=2$ disques de B vers C (étape 5 à 7 sur la figure ci-dessus)\n",
    "\n",
    "Ce sont les mêmes mouvements que l'on a fait pour résoudre le problème à deux disques.\n",
    "\n",
    "Donc si on a trois disques à déplacer, on en déplace deux pour pouvoir pouvoir bien placer le troisième puis on s'occupe des deux mis de côté.\n",
    "\n",
    "En généralisant, si on a $n$ disques à déplacer, on en déplace $n-1$ pour pouvoir bien placer le dernier puis on s'occupe des $n-1$ mis de côté.\n",
    "\n",
    "L'astuce ici est de créer une fonction `hanoi` qui prend 4 paramètres : `hanoi(n,debut,inter,fin)` où `n` est le nombre de disques à déplacer, `debut` est la tour de départ de nos `n` disques, `inter` est la tour intermédiaire que l'on peut utiliser pour déplacer et `fin` est la tour où doivent se trouver les `n` disques au final.\n",
    "\n",
    "Ainsi, au début on va lancer `hanoi(n,\"A\",\"B\",\"C\")` mais quand on va vouloir déplacer les n-1 disques de A vers B, on écrira `hanoi(n-1,\"A\",\"C\",\"B\")`.\n",
    "\n",
    "Ecrire cette fonction recursive `hanoi(n,debut,inter,fin)` de manière à afficher (avec print) à chaque étape le déplacement à effectuer sous la forme \"A -> B\" pour un déplacement de la tour \"A\" vers la tour \"B\" par exemple.\n",
    "\n"
   ]
  },
  {
   "cell_type": "code",
   "execution_count": 3,
   "metadata": {},
   "outputs": [
    {
     "name": "stdout",
     "output_type": "stream",
     "text": [
      "A -> C\n",
      "A -> B\n",
      "C -> B\n",
      "A -> C\n",
      "B -> A\n",
      "B -> C\n",
      "A -> C\n"
     ]
    }
   ],
   "source": [
    "def hanoi(n,debut,inter,fin):\n",
    "    if n==1:\n",
    "        print(debut, \"->\", fin)\n",
    "    else:\n",
    "        hanoi(n-1,debut,fin,inter)\n",
    "        print(debut, \"->\", fin)\n",
    "        hanoi(n-1,inter,debut,fin)\n",
    "\n",
    "hanoi(3,\"A\",\"B\",\"C\")"
   ]
  },
  {
   "cell_type": "code",
   "execution_count": null,
   "metadata": {},
   "outputs": [],
   "source": []
  }
 ],
 "metadata": {
  "kernelspec": {
   "display_name": "Python 3",
   "language": "python",
   "name": "python3"
  },
  "language_info": {
   "codemirror_mode": {
    "name": "ipython",
    "version": 3
   },
   "file_extension": ".py",
   "mimetype": "text/x-python",
   "name": "python",
   "nbconvert_exporter": "python",
   "pygments_lexer": "ipython3",
   "version": "3.6.4"
  }
 },
 "nbformat": 4,
 "nbformat_minor": 2
}
