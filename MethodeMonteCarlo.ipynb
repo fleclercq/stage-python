{
 "cells": [
  {
   "cell_type": "markdown",
   "metadata": {},
   "source": [
    "# La méthode de MONTE CARLO "
   ]
  },
  {
   "cell_type": "markdown",
   "metadata": {},
   "source": [
    "[la méthode de monte carlo ](https://fr.wikipedia.org/wiki/M%C3%A9thode_de_Monte-Carlo)"
   ]
  },
  {
   "cell_type": "markdown",
   "metadata": {},
   "source": [
    "On veut déterminer une valeur approchée de l'intégrale $$\\int_{a}^{b}f(x)\\,\\text{d}x$$\n",
    "où f est une fonction continue et positive sur $\\left[ a,b\\right] $\n",
    "On suppose de plus que l'on connait $m$ un majorant de $f$ sur $\\left[ a,b\\right] $"
   ]
  },
  {
   "cell_type": "markdown",
   "metadata": {},
   "source": [
    "<IMG SRC=\"montecarlo.png\">"
   ]
  },
  {
   "cell_type": "markdown",
   "metadata": {},
   "source": [
    "##  Exercice 1"
   ]
  },
  {
   "cell_type": "markdown",
   "metadata": {},
   "source": [
    "Créer une fonction Monte Carlo **monte_carlo(f,a,b,m,N)** qui calcule l’approximation de l’intégrale\n",
    "de f sur [a,b] en appliquant cette méthode.\n",
    "Quelques indications :\n",
    "+ Dans cette fonction, on devra répéter N fois l’opération qui consiste à faire un tirage\n",
    "aléatoire de x et y ;\n",
    "+ Une fois ce tirage effectué, on testera si la condition y <= f (x) est satisfaite ou pas et on\n",
    "augmentera la valeur de P en conséquence ;\n",
    "+ À la fin de la fonction, on renverra la valeur appropriée\n",
    "\n",
    "Tester votre fonction avec une fonction \"lambda\" (anonyme) pour le calcul d'une intégrale simple."
   ]
  },
  {
   "cell_type": "markdown",
   "metadata": {},
   "source": [
    "## Exercice 2"
   ]
  },
  {
   "cell_type": "markdown",
   "metadata": {},
   "source": [
    "L’orbite d’écrite par une planète autour du soleil est (en première approximation) une ellipse."
   ]
  },
  {
   "cell_type": "markdown",
   "metadata": {},
   "source": [
    "<IMG SRC=\"orbite.png\">"
   ]
  },
  {
   "cell_type": "markdown",
   "metadata": {},
   "source": [
    "<IMG SRC=\"pluton.png\">"
   ]
  },
  {
   "cell_type": "code",
   "execution_count": null,
   "metadata": {},
   "outputs": [],
   "source": []
  }
 ],
 "metadata": {
  "kernelspec": {
   "display_name": "Python 3",
   "language": "python",
   "name": "python3"
  },
  "language_info": {
   "codemirror_mode": {
    "name": "ipython",
    "version": 3
   },
   "file_extension": ".py",
   "mimetype": "text/x-python",
   "name": "python",
   "nbconvert_exporter": "python",
   "pygments_lexer": "ipython3",
   "version": "3.7.1"
  }
 },
 "nbformat": 4,
 "nbformat_minor": 2
}
