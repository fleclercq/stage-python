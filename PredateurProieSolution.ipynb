{
 "cells": [
  {
   "cell_type": "markdown",
   "metadata": {},
   "source": [
    "# Modèle proie-prédateur de Volterra\n",
    "\n",
    "Le mathématicien Volterra a proposé en 1926 un modèle décrivant l’évolution conjointe des sardines et des requins\n",
    "constatée par des pêcheurs de l’Adriatique : les effectifs des deux espèces variaient de façon périodique en fonction du\n",
    "temps, avec la même période mais en étant décalées dans le temps.\n",
    "\n",
    "Plus généralement, il s’agit de l’étude de l’évolution de deux populations (proies et prédateurs) ayant une incidence\n",
    "l’une sur l’autre.\n",
    "\n",
    "Les équations vérifiées par ces effectifs sont des équations différentielles. Nous ne traiterons ici que le problème discrétisé à l’aide de suites.\n",
    "\n",
    "## Mise en équation du problème discrétisé\n",
    "\n",
    "On note $u_n$ le nombre de proies et $v_n$ le nombre de prédateurs à l’instant $n$\n",
    "\n",
    "En l’absence de prédateurs, on note $a$ le taux de reproduction des proies entre les instants $n$ et $n+1$. Il est\n",
    "supposé constant dans ce modèle : les proies sont supposées avoir une source illimitée de nourriture et se\n",
    "reproduire si elles ne sont soumises à aucune prédation.\n",
    "\n",
    "En l’absence des proies, on note $c$ le taux de mortalité des prédateurs entre les instants $n$ et $n+1$. Il est\n",
    "supposé constant dans ce modèle : il représente la mort naturelle des prédateurs.\n",
    "\n",
    "Le taux de mortalité des proies due aux prédateurs est supposé, dans ce modèle, proportionnel au nombre de\n",
    "prédateurs : $b$ est le coefficient de proportionnalité.\n",
    "\n",
    "Le taux de reproduction des prédateurs en fonction des proies mangées est supposé, là encore, proportionnel\n",
    "au nombre de proies. $d$ est le coefficient de proportionnalité.\n",
    "\n",
    "On a donc :\n",
    "\n",
    "$\\left\\{\\begin{array}{lll}\n",
    "\\dfrac{u_{n+1}-u_n}{u_n}=a-bv_n&\\phantom{aa}&\\text{équation des proies}\\\\\n",
    "\\dfrac{v_{n+1}-v_n}{v_n}=du_n-c&\\phantom{aa}&\\text{équation des prédateurs}\\\\\n",
    "\\end{array}\\right.$\n",
    "\n",
    "La variation du nombre de proies est donnée par sa propre croissance moins le taux de prédation qui leur est\n",
    "appliqué, ce qui donne l’équation des proies.\n",
    "\n",
    "La variation de la population de prédateurs en tant que croissance de cette population, diminuée du nombre de\n",
    "morts naturelles, ce qui donne l’équation des prédateurs.\n",
    "\n",
    "On obtient ainsi le système d’équations du modèle de Volterra :\n",
    "\n",
    "$\\left\\{\\begin{array}{ll}\n",
    "u_{n+1}=u_n(1+a-bv_n)&\\\\\n",
    "v_{n+1}=v_n(1-c+du_n)&\\\\\n",
    "\\end{array}\\right.$\n",
    "\n",
    "\n",
    "## Exercice\n",
    "\n",
    "On suppose qu'à ce jour, il y a 53000 proies et 9000 prédateurs et on se demande comment vont évoluer les populations de ces deux espèces. On suppose qu'il n'y a aucune autre intervention extérieur.\n",
    "\n",
    "Ecrire un programme qui remplit deux listes avec les $n$ premiers termes des deux suites $u$ et $v$ puis trace l'évolution des deux populations dans un graphique.\n",
    "\n",
    "Nous allons prendre pour valeur $a=0.09$, $b=0.00001$, $c=0.25$ et $d=0.000005$.\n",
    "\n",
    "Faire plusieurs simulations et expliquer ce qu'il se passe."
   ]
  },
  {
   "cell_type": "code",
   "execution_count": 14,
   "metadata": {},
   "outputs": [
    {
     "name": "stdout",
     "output_type": "stream",
     "text": [
      "Nombre de termes = 420\n"
     ]
    },
    {
     "data": {
      "image/png": "[encoded data removed]",
      "text/plain": [
       "<Figure size 432x288 with 1 Axes>"
      ]
     },
     "metadata": {
      "needs_background": "light"
     },
     "output_type": "display_data"
    }
   ],
   "source": [
    "# Données\n",
    "\n",
    "a=0.09\n",
    "b=0.00001\n",
    "c=0.25\n",
    "d=0.000005\n",
    "\n",
    "# Entrées\n",
    "\n",
    "n = eval(input(\"Nombre de termes = \"))\n",
    "u0 = 53000\n",
    "v0 = 9000\n",
    "\n",
    "# Initialisation\n",
    "\n",
    "un = u0\n",
    "vn = v0\n",
    "u = [u0]\n",
    "v = [v0]\n",
    "\n",
    "# traitement\n",
    "\n",
    "for compteur in range(n-1):\n",
    "    unp1 = un*(1+a-b*vn)\n",
    "    vnp1 = vn*(1-c+d*un)\n",
    "    un = unp1\n",
    "    vn = vnp1\n",
    "    u.append(un)\n",
    "    v.append(vn)\n",
    "\n",
    "# sortie\n",
    "    \n",
    "import matplotlib.pyplot as graph\n",
    "graph.plot(range(n),u,\"ro\")\n",
    "graph.plot(range(n),v,\"bo\")\n",
    "graph.title(\"les proies en rouge et les prédateurs en bleu\\n\"+\n",
    "                 \"évolution du modèle prédateurs-proies\")\n",
    "graph.show()"
   ]
  },
  {
   "cell_type": "markdown",
   "metadata": {},
   "source": [
    "Au bout d'un certain temps, il n'y a plus de prédateurs et les proies n'ont plus de facteur limitant..."
   ]
  }
 ],
 "metadata": {
  "kernelspec": {
   "display_name": "Python 3",
   "language": "python",
   "name": "python3"
  },
  "language_info": {
   "codemirror_mode": {
    "name": "ipython",
    "version": 3
   },
   "file_extension": ".py",
   "mimetype": "text/x-python",
   "name": "python",
   "nbconvert_exporter": "python",
   "pygments_lexer": "ipython3",
   "version": "3.7.1"
  }
 },
 "nbformat": 4,
 "nbformat_minor": 2
}
