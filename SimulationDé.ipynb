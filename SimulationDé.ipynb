{
 "cells": [
  {
   "cell_type": "markdown",
   "metadata": {},
   "source": [
    "Ces exercices permettent de réaliser des simulations aléatoires avec **Python**.\n",
    "Pour apprendre *efficacement* ne consulter pas trop vite la solution ;-)"
   ]
  },
  {
   "cell_type": "markdown",
   "metadata": {},
   "source": [
    "<IMG SRC=\"de.png\">"
   ]
  },
  {
   "cell_type": "markdown",
   "metadata": {},
   "source": [
    "# Des simulations avec un simple Dé"
   ]
  },
  {
   "cell_type": "markdown",
   "metadata": {},
   "source": [
    "## Exercice 1"
   ]
  },
  {
   "cell_type": "markdown",
   "metadata": {},
   "source": [
    "Écrire une fonction qui simule un lancer de dé équilibré à six faces"
   ]
  },
  {
   "cell_type": "markdown",
   "metadata": {},
   "source": [
    "## Exercice 2"
   ]
  },
  {
   "cell_type": "markdown",
   "metadata": {},
   "source": [
    "Écrire une fonction **lancerde(n)** qui effectue **n** lancers de dés successifs et retourne une liste\n",
    "contenant le nombre de fois où on est tombé sur chaque face du dé (la liste doit donc contenir\n",
    "six valeurs)."
   ]
  },
  {
   "cell_type": "markdown",
   "metadata": {},
   "source": [
    "## Exercice 3"
   ]
  },
  {
   "cell_type": "markdown",
   "metadata": {},
   "source": [
    "Écrire une fonction **moyennede(n)** qui effectue **n** lancers de dés successifs et retourne la\n",
    "moyenne de tous les résultats obtenus. \n",
    "Tester cette fonction pour n = 10, puis n = 100 etc,jusqu’à ce que les calculs commencent à devenir trop longs. \n",
    "On pourra commenter les résultats\n",
    "obtenus."
   ]
  },
  {
   "cell_type": "markdown",
   "metadata": {},
   "source": [
    "## Exercice 4"
   ]
  },
  {
   "cell_type": "markdown",
   "metadata": {},
   "source": [
    "Écrire une fonction **premiersix()** qui effectue des lancers de dés jusqu’à obtenir un 6 et qui\n",
    "affiche le nombre d’essais nécessaires"
   ]
  },
  {
   "cell_type": "markdown",
   "metadata": {},
   "source": [
    "## Exercice 5"
   ]
  },
  {
   "cell_type": "markdown",
   "metadata": {},
   "source": [
    "Écrire un programme **geometrique(n)** effectuant **n** fois de suite la fonction premiersix() et\n",
    "qui retourne la liste de tous les résultats obtenus. Effectuer une simulation avec n = 1000 et\n",
    "compter (pas à la main, évidemment), le nombre de fois où on a obtenu la valeur 1 (commenter\n",
    "le résultat). Quelle est la valeur maximale obtenue ?"
   ]
  },
  {
   "cell_type": "markdown",
   "metadata": {},
   "source": [
    "## Exercice 6"
   ]
  },
  {
   "cell_type": "markdown",
   "metadata": {},
   "source": [
    "Modifier le programme **geometrique(n)** pour qu’il retourne désormais une liste contenant le\n",
    "nombre de fois que chaque valeur de p comprise entre 1 et 100 où p représente le nombre de 1 obtenu lors des *n* simulations.Cette liste commencera par 0 car il faut lancer au moins une fois le dé pour obtenir 1 fois 6"
   ]
  },
  {
   "cell_type": "markdown",
   "metadata": {},
   "source": [
    "## Exercice 7"
   ]
  },
  {
   "cell_type": "markdown",
   "metadata": {},
   "source": [
    "À l’aide du module **matplotlib.pyplot**, tracer une courbe représentant, en fonction de **p**, le\n",
    "nombre de fois où la simulation précédente a pris la valeur p lorsque $n = 10000$. \n",
    "Commenter la courbe obtenue.\n"
   ]
  }
 ],
 "metadata": {
  "kernelspec": {
   "display_name": "Python 3",
   "language": "python",
   "name": "python3"
  },
  "language_info": {
   "codemirror_mode": {
    "name": "ipython",
    "version": 3
   },
   "file_extension": ".py",
   "mimetype": "text/x-python",
   "name": "python",
   "nbconvert_exporter": "python",
   "pygments_lexer": "ipython3",
   "version": "3.7.0"
  }
 },
 "nbformat": 4,
 "nbformat_minor": 2
}
