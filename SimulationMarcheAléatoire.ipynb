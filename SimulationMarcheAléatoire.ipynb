{
 "cells": [
  {
   "cell_type": "markdown",
   "metadata": {},
   "source": [
    "[Marche aléatoire](https://fr.wikipedia.org/wiki/Marche_al%C3%A9atoire)"
   ]
  },
  {
   "cell_type": "markdown",
   "metadata": {},
   "source": [
    "## Exercice 1"
   ]
  },
  {
   "cell_type": "code",
   "execution_count": null,
   "metadata": {},
   "outputs": [],
   "source": [
    "Écrire une fonction **marche(n)** simulant $n$ pas de marche aléatoire puis affichant la position\n",
    "finale. Modifier le programme pour qu’il affiche la liste de toutes les positions intermédiaires."
   ]
  },
  {
   "cell_type": "markdown",
   "metadata": {},
   "source": [
    "## Exercice 2"
   ]
  },
  {
   "cell_type": "markdown",
   "metadata": {},
   "source": [
    "Modifier le programme précédent  pour qu’il affiche la liste de toutes les positions intermédiaires."
   ]
  },
  {
   "cell_type": "markdown",
   "metadata": {},
   "source": [
    "## Exercice 3"
   ]
  },
  {
   "cell_type": "code",
   "execution_count": null,
   "metadata": {},
   "outputs": [],
   "source": [
    "Modifier le programme précédent pour qu’il calcule le nombre de fois où on est repassé par 0\n",
    "au cours de la marche aléatoire, ainsi que la plus grande valeur atteinte. Tester pour différentes\n",
    "valeurs de n (on pourra essayer de regrouper les résultats dans un tableau)."
   ]
  },
  {
   "cell_type": "markdown",
   "metadata": {},
   "source": [
    "## Exercice  4"
   ]
  },
  {
   "cell_type": "code",
   "execution_count": null,
   "metadata": {},
   "outputs": [],
   "source": [
    "Calculer la moyenne de toutes les valeurs obtenues pour une marche aléatoire de 1000 étapes.\n",
    "Recommencer avec $10000$ ou $100000$, et commenter les résultats obtenus."
   ]
  },
  {
   "cell_type": "markdown",
   "metadata": {},
   "source": [
    "## Exercice  5"
   ]
  },
  {
   "cell_type": "code",
   "execution_count": null,
   "metadata": {},
   "outputs": [],
   "source": [
    ". On cherche désormais à simuler une marche aléatoire en deux dimensions : l’objet se trouve\n",
    "initialement à la position $(0, 0)$ et peut avancer dans une des quatre directions (haut, bas,\n",
    "gauche et droite) avec probabilité $\\dfrac{1}{4}$ à chaque étape. \n",
    "Écrire un programme Python simulant une marche aléatoire de $n$ étapes en deux dimensions."
   ]
  },
  {
   "cell_type": "markdown",
   "metadata": {},
   "source": [
    "## Exercice  6"
   ]
  },
  {
   "cell_type": "code",
   "execution_count": null,
   "metadata": {},
   "outputs": [],
   "source": [
    "Tracer la trajectoire obtenue pour une telle marche aléatoire à l’aide de *matplotlib.pyplot*\n",
    "On pourra tester pour différentes valeurs de $n$ pour admirer les résultats obtenus."
   ]
  },
  {
   "cell_type": "markdown",
   "metadata": {},
   "source": [
    "## Exercice  7"
   ]
  },
  {
   "cell_type": "code",
   "execution_count": null,
   "metadata": {},
   "outputs": [],
   "source": [
    "Modifier le programme précédent pour qu’il effectue la marche non plus sur un nombred’étapes donné, \n",
    "mais jusqu’à que l’objet soit revenu à son point de départ. Effectuer plusieurs simulations \n",
    "(il n’est pas impossible que Python plante lors de ces essais) et commenter les résultats obtenus."
   ]
  }
 ],
 "metadata": {
  "kernelspec": {
   "display_name": "Python 3",
   "language": "python",
   "name": "python3"
  },
  "language_info": {
   "codemirror_mode": {
    "name": "ipython",
    "version": 3
   },
   "file_extension": ".py",
   "mimetype": "text/x-python",
   "name": "python",
   "nbconvert_exporter": "python",
   "pygments_lexer": "ipython3",
   "version": "3.7.0"
  }
 },
 "nbformat": 4,
 "nbformat_minor": 2
}
