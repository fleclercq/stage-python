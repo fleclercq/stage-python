{
 "cells": [
  {
   "cell_type": "markdown",
   "metadata": {},
   "source": [
    "Ces exercices permettent de réaliser des simulatiosn aléatoires avec **Python**.\n",
    "Pour apprendre *efficacement* ne consulter pas trop vite la solution ;-)"
   ]
  },
  {
   "cell_type": "markdown",
   "metadata": {},
   "source": [
    "<IMG SRC=\"PouF.png\">"
   ]
  },
  {
   "cell_type": "markdown",
   "metadata": {},
   "source": [
    "# Lancer de Pièces  "
   ]
  },
  {
   "cell_type": "markdown",
   "metadata": {},
   "source": [
    "## Exercice 1"
   ]
  },
  {
   "cell_type": "markdown",
   "metadata": {},
   "source": [
    "Écrire une fonction **piece(p)** simulant un lancer de pièce déséquilibrée tombant sur Pile\n",
    "avec probabilité p (et donc sur Face avec probabilité 1-p). \n",
    "\n",
    "Par souci de simplicité, le programme pourra retourner la valeur 1 si on tombe sur Pile, et 0 si on tombe sur Face. Il\n",
    "est fortement conseillé d’utiliser intelligemment la fonction random, et on pourra ajouter un\n",
    "message d’erreur si la valeur de p proposée n’est pas comprise entre 0 et 1."
   ]
  },
  {
   "cell_type": "markdown",
   "metadata": {},
   "source": [
    "## Exercice 2"
   ]
  },
  {
   "cell_type": "markdown",
   "metadata": {},
   "source": [
    "Écrire une fonction **suitelancers(p,n)** effectuant une série de $n$ lancers de pièces déséquilibrées, et renvoyant le nombre de Piles obtenus. Tester ce programme avec n = 100 et\n",
    "différentes valeurs de $p$.\n",
    "Commenter le résultat."
   ]
  },
  {
   "cell_type": "markdown",
   "metadata": {},
   "source": [
    "## Exercice 3"
   ]
  },
  {
   "cell_type": "markdown",
   "metadata": {},
   "source": [
    "Effectuer $1000$ fois de suite le programme $suitelancers(0.5,5)$ et retranscrire dans une liste\n",
    "le nombre de fois où on a obtenu zéro Pile, une fois  Pile, deux fois Piles, . . ., cinq fois Piles. \n",
    "On pourra commenter les résultats obtenus."
   ]
  },
  {
   "cell_type": "markdown",
   "metadata": {},
   "source": [
    "## Exercice 4"
   ]
  },
  {
   "cell_type": "markdown",
   "metadata": {},
   "source": [
    "Effectuer 10 000 fois de suite le programme suitelancers(0.5,20) et représenter avec matplotlib.pyplot le nombre de fois où on a obtenu chaque quantité de Pile possible entre 0 et 20.\n",
    "Commenter.m"
   ]
  },
  {
   "cell_type": "code",
   "execution_count": null,
   "metadata": {},
   "outputs": [],
   "source": []
  }
 ],
 "metadata": {
  "kernelspec": {
   "display_name": "Python 3",
   "language": "python",
   "name": "python3"
  },
  "language_info": {
   "codemirror_mode": {
    "name": "ipython",
    "version": 3
   },
   "file_extension": ".py",
   "mimetype": "text/x-python",
   "name": "python",
   "nbconvert_exporter": "python",
   "pygments_lexer": "ipython3",
   "version": "3.6.4"
  }
 },
 "nbformat": 4,
 "nbformat_minor": 2
}
