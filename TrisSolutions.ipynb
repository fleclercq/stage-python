{
 "cells": [
  {
   "cell_type": "markdown",
   "metadata": {},
   "source": [
    "# Algorithmes de tri (solutions)\n",
    "\n",
    "Il existe un grand nombre d'algorithmes de tri, nous allons en voir deux et en comparer la vitesse d'exécution.\n",
    "\n",
    "# Tri par sélection\n",
    "\n",
    "Aussi appelé le tri à bulles, son principe est simple, on cherche le minimum de la liste que l'ont fait remmonter en première place et on recommence avec le reste de la liste.\n",
    "\n",
    "Autrement dit, le principe du tri par sélection d'une liste `T= (T[1],T[2],...,T[n])` est le suivant :\n",
    "\n",
    "Pour chaque entier $j$ ($1\\leqslant j \\leqslant n−1$)\n",
    "\n",
    "- parcourir les éléments $T[j],T[j+ 1], . . .,T[n]$, retenir l'indice `k` du plus petit.\n",
    "- placer au rang `j` le plus petit des éléments `T[j],T[j+ 1], . . .,T[n]` (en  ́echangeant `T[j]` et `T[k]`)\n",
    "\n",
    "En voici une illustration, la partie noire est la partie non triée dans lequelle on cherche le minimum. Une fois trouvé, il est placé au début de la liste par échange.\n",
    "\n",
    "<IMG SRC=\"triselection.png\">\n",
    "    \n",
    "## Exercice  : Programmer le tri par sélection\n",
    "\n",
    "**Entrée :** `T` liste de nombres.\n",
    "\n",
    "**Sortie :** liste `T` triée\n",
    "\n",
    "**Traitement :**\n",
    "\n",
    "**Pour** j allant de 1 à n−1<br>\n",
    "&nbsp;&nbsp;&nbsp;&nbsp;&nbsp;&nbsp;     indiceMin :=j<br>\n",
    "&nbsp;&nbsp;&nbsp;&nbsp;&nbsp;&nbsp;     **Pour** k allant de j+ 1 à n<br>\n",
    "&nbsp;&nbsp;&nbsp;&nbsp;&nbsp;&nbsp;&nbsp;&nbsp;&nbsp;&nbsp;&nbsp;&nbsp;           **si** T[k]<T[j] **alors**<br>\n",
    "&nbsp;&nbsp;&nbsp;&nbsp;&nbsp;&nbsp;&nbsp;&nbsp;&nbsp;&nbsp;&nbsp;&nbsp;&nbsp;&nbsp;&nbsp;&nbsp;&nbsp;&nbsp;                indiceMin:=k<br>\n",
    "&nbsp;&nbsp;&nbsp;&nbsp;&nbsp;&nbsp;&nbsp;&nbsp;&nbsp;&nbsp;&nbsp;&nbsp;           **finSi**<br>\n",
    "&nbsp;&nbsp;&nbsp;&nbsp;&nbsp;&nbsp;     **finPour**<br>\n",
    "&nbsp;&nbsp;&nbsp;&nbsp;&nbsp;&nbsp;     Echange de T[j] et T[indiceMin] **si** j $\\not=$ indiceMin<br>\n",
    "**finPour**"
   ]
  },
  {
   "cell_type": "code",
   "execution_count": 2,
   "metadata": {},
   "outputs": [
    {
     "name": "stdout",
     "output_type": "stream",
     "text": [
      "[9, 12, 31, 32, 46, 65, 81, 82]\n"
     ]
    }
   ],
   "source": [
    "# programmer le tri ici\n",
    "\n",
    "def selection(T,debut):\n",
    "    indiceDuMin = debut\n",
    "    for k in range(debut+1,len(T)) :\n",
    "        if T[k] < T[indiceDuMin] :\n",
    "            indiceDuMin = k\n",
    "    if indiceDuMin != debut:\n",
    "        (T[debut],T[indiceDuMin]) = (T[indiceDuMin],T[debut]) # utilisation des tuples\n",
    "        \n",
    "def triSelection(T):\n",
    "    for j in range(0,len(T)-1):\n",
    "        selection(T,j)\n",
    "\n",
    "\n",
    "# trier cette liste à l'aide de cet algorithme\n",
    "\n",
    "L = [65, 31, 9, 32, 81, 82, 46, 12]\n",
    "\n",
    "triSelection(L)\n",
    "print(L)"
   ]
  },
  {
   "cell_type": "markdown",
   "metadata": {},
   "source": [
    "# Tri par fusion\n",
    "\n",
    "## Avant de commencer\n",
    "\n",
    "Manipulons les listes avec le slicing.\n",
    "\n",
    "Le terme anglais de slice est associé à l'idée de découpage (*une part de gâteau ou de pizza*). En programmation, et en Python en particulier, un slice permet le découpage de structures de données séquentielles, typiquement les chaînes de caractères ou les listes.\n",
    "\n",
    "Les slices sont des expressions du langage Python qui vous permettent en une ligne de code d'extraire des éléments d'une liste ou d'une chaîne. \n",
    "\n",
    "Exemple : Vous avez une variable `date` qui référence une date sous le format **jj/mm/aaaa** et vous voulez extraire juste le mois de cette date. Avec un slice, vous l'obtiendrez juste avec ceci : `date[3:5]`.\n",
    "\n",
    "Mais bien évidemment, comme d'habitude, quelques pièges...\n",
    "\n",
    "## Slices avec deux indices\n",
    "\n",
    "Soit `S` une séquence, par exemple une chaîne ou une liste. Une expression de la forme `S[4:16]` est un slice dans sa syntaxe de base. Cette syntaxe utilise deux indices, ici les indices 4 (indice de début du slice) et 16 (indice de fin du slice).\n",
    "\n",
    "Voici un exemple typique de slice de base :"
   ]
  },
  {
   "cell_type": "code",
   "execution_count": 3,
   "metadata": {},
   "outputs": [
    {
     "name": "stdout",
     "output_type": "stream",
     "text": [
      "EFGHIJKLMNOP\n"
     ]
    }
   ],
   "source": [
    "alpha = \"ABCDEFGHIJKLMNOPQRSTUVWXYZ\"\n",
    "print(alpha[4:16])"
   ]
  },
  {
   "cell_type": "markdown",
   "metadata": {},
   "source": [
    "`alpha[4:16]` est un slice et désigne la chaîne extraite de la chaîne `alpha` dont les éléments sont situés :\n",
    "\n",
    "- à droite de l'élément d'indice 4,\n",
    "- strictement à gauche de l'élément d'indice 16, autrement dit jusqu'à l'indice 15 inclus\n",
    "\n",
    "ce qui graphiquement donne :\n",
    "\n",
    "<IMG SRC=\"trislice.png\">\n",
    "    \n",
    "Plus généralement,\n",
    "\n",
    "Si $i$ et $j$ sont des indices positifs, la syntaxe $S[i:j]$ désigne la séquence, de même nature que $S$, formée des éléments $S[k]$ où $k$ vérifie $i\\leqslant k\\leqslant j$.\n",
    "\n",
    "Noter l'intervalle entier semi-fermé : le terme d'indice de droite n'est jamais inclus dans le slice obtenu.\n",
    "\n",
    "Un slice peut être vide :"
   ]
  },
  {
   "cell_type": "code",
   "execution_count": 4,
   "metadata": {},
   "outputs": [
    {
     "name": "stdout",
     "output_type": "stream",
     "text": [
      "0\n"
     ]
    }
   ],
   "source": [
    "alpha = \"ABCDEFGHIJKLMNOPQRSTUVWXYZ\"\n",
    "s = alpha[10:8]\n",
    "print(len(s))"
   ]
  },
  {
   "cell_type": "markdown",
   "metadata": {},
   "source": [
    "un slice `t` est construit à partir d'une séquence `s` alors `t` est de même type que `s`, autrement dit si `s` est une chaîne alors `t` est aussi une chaîne, si `s` est une liste alors `t` est une liste, etc.\n",
    "\n",
    "Voici justement un exemple de slice de base construit sur une liste :"
   ]
  },
  {
   "cell_type": "code",
   "execution_count": 5,
   "metadata": {},
   "outputs": [
    {
     "name": "stdout",
     "output_type": "stream",
     "text": [
      "[9, 32, 81, 82]\n"
     ]
    }
   ],
   "source": [
    "L = [65, 31, 9, 32, 81, 82, 46, 12]\n",
    "print(L[2:6])"
   ]
  },
  {
   "cell_type": "markdown",
   "metadata": {},
   "source": [
    "### Application : segmenter un numéro de téléphone\n",
    "\n",
    "Ecrire les commandes pour segmenter une chaîne de caractères à intervalles réguliers par un séparateur donné ; typiquement, pour un numéro de téléphone, 0942371804 devient 09-42-37-18-04."
   ]
  },
  {
   "cell_type": "code",
   "execution_count": 7,
   "metadata": {},
   "outputs": [
    {
     "name": "stdout",
     "output_type": "stream",
     "text": [
      "09-42-37-18-04\n"
     ]
    }
   ],
   "source": [
    "tel=\"0942371804\"\n",
    "\n",
    "# écrire le code ici\n",
    "\n",
    "NoTel = tel[0:2] + '-' + tel[2:4] + '-' + tel[4:6] + '-' + tel[6:8] + '-' + tel[8:10]\n",
    "print(NoTel)"
   ]
  },
  {
   "cell_type": "markdown",
   "metadata": {},
   "source": [
    "## Omission d'indice\n",
    "\n",
    "quand un slice se réfère à une des deux extrémités de la séquence, un raccourci syntaxique permet d'omettre l'indice de début ou de fin. Par exemple, le slice `s[:j]` est synonyme de `s[0:j]`"
   ]
  },
  {
   "cell_type": "code",
   "execution_count": 8,
   "metadata": {},
   "outputs": [
    {
     "name": "stdout",
     "output_type": "stream",
     "text": [
      "ABCDE\n",
      "FGHIJKLMNOPQRSTUVWXYZ\n"
     ]
    }
   ],
   "source": [
    "alpha = \"ABCDEFGHIJKLMNOPQRSTUVWXYZ\"\n",
    "\n",
    "# Les 5 premiers\n",
    "print(alpha[:5])\n",
    "\n",
    "# Tous sauf les 5 premiers\n",
    "print(alpha[5:])\n"
   ]
  },
  {
   "cell_type": "markdown",
   "metadata": {},
   "source": [
    "### Application : couper une liste en deux\n",
    "\n",
    "Dans le cadre de code suivant, couper la liste `L` en deux listes `L1` et `L2` de tailles égales (ou presque). Votre code doit fonctionner quelque soit la taille de la liste `L` donnée."
   ]
  },
  {
   "cell_type": "code",
   "execution_count": 9,
   "metadata": {},
   "outputs": [
    {
     "name": "stdout",
     "output_type": "stream",
     "text": [
      "[43, 35, 72, 51, 9, 94, 84, 44, 23, 74, 26, 73, 99, 44, 62, 50, 5, 75, 70, 81, 83, 6, 18, 29, 12, 14, 81, 15, 23, 25, 11, 77, 11, 32, 23, 19, 29, 30, 10]\n",
      "[43, 35, 72, 51, 9, 94, 84, 44, 23, 74, 26, 73, 99, 44, 62, 50, 5, 75, 70]\n",
      "[81, 83, 6, 18, 29, 12, 14, 81, 15, 23, 25, 11, 77, 11, 32, 23, 19, 29, 30, 10]\n"
     ]
    }
   ],
   "source": [
    "from random import randint\n",
    "L = [randint(1,100) for k in range(randint(10,50))]\n",
    "print(L)\n",
    "\n",
    "# insérer votre code ici\n",
    "DemiTaille = len(L)//2\n",
    "L1 = L[:DemiTaille]\n",
    "L2 = L[DemiTaille:]\n",
    "print(L1)\n",
    "print(L2)"
   ]
  },
  {
   "cell_type": "markdown",
   "metadata": {},
   "source": [
    "# Tri par fusion enfin...\n",
    "\n",
    "Voici le principe en application\n",
    "\n",
    "\n",
    "<video width=\"640\" height=\"480\" controls src=\"Mergesort.mp4\" />\n"
   ]
  },
  {
   "cell_type": "markdown",
   "metadata": {},
   "source": [
    "On pose devant soi deux paquets de cartes triées, la plus petite carte au-dessus. Pour fusionner les deux paquets en un seul paquet trié : \n",
    "\n",
    "- on prend la plus petite carte que l'on voit sur les deux tas\n",
    "- puis on prend la plus petite carte que l’on voit sur les deux tas et on la glisse sur la carte que l’on a déjà dans la main \n",
    "- et on recommence au point précédent...\n",
    "\n",
    "### Exercice\n",
    "\n",
    "Soit la fonction `fusion(T1,T2)` qui prend en paramètres deux listes triées `T1` et `T2` et renvoyant la fusion triées des deux listes.\n",
    "\n",
    "En utilisant le slicing, comment écrire l'appel à fusion avec la liste `T1` privée de son premier terme et la liste `T2` entière ?\n",
    "\n",
    "**Solution :** `fusion(T1[1:],T2)`\n",
    "\n",
    "En utilisant le slicing, comment écrire l'appel à fusion avec la liste `T2` privée de son premier terme et la liste `T1` entière ?\n",
    "\n",
    "**Solution :** `fusion(T1,T2[1:])`\n",
    "\n",
    "Ecrire une fonction prenant en paramètres deux listes triées `T1` et `T2` et renvoyant la fusion des deux listes."
   ]
  },
  {
   "cell_type": "code",
   "execution_count": 12,
   "metadata": {},
   "outputs": [
    {
     "name": "stdout",
     "output_type": "stream",
     "text": [
      "[1, 2, 3, 5, 7, 8, 9, 10]\n"
     ]
    }
   ],
   "source": [
    "# si T1 est vide, retourner T2\n",
    "# si T2 est vide, retourner T1\n",
    "# sinon retourner une liste contenant la plus petite des premières valeurs des listes et la fusion de ce qui reste. \n",
    "# On utilisera le slicing et on appelera fusion de manière récursive.\n",
    "    \n",
    "def fusion(T1,T2):\n",
    "    if T1 == [] : return T2\n",
    "    if T2 == [] : return T1\n",
    "    if T1[0]<T2[0]:\n",
    "        return [T1[0]]+fusion(T1[1:],T2)\n",
    "    else:\n",
    "        return [T2[0]]+fusion(T1,T2[1:])\n",
    "    \n",
    "    \n",
    "# fusionner ces deux listes\n",
    "\n",
    "L1 = [1,3,5,7,9]\n",
    "L2= [2,8,10]\n",
    "print(fusion(L1,L2))"
   ]
  },
  {
   "cell_type": "markdown",
   "metadata": {},
   "source": [
    "Principe du tri fusion d'une liste `T` :\n",
    "\n",
    "- Scinder la liste en deux listes `T1`, `T2` que l’on trie par tri fusion si elles ne le sont pas\n",
    "- fusionner `T1` et `T2`.\n",
    "\n",
    "Ecrire un programme triant une liste par ce principe."
   ]
  },
  {
   "cell_type": "code",
   "execution_count": 13,
   "metadata": {},
   "outputs": [
    {
     "name": "stdout",
     "output_type": "stream",
     "text": [
      "[9, 12, 31, 32, 46, 65, 81, 82]\n"
     ]
    }
   ],
   "source": [
    "# Si la liste est vide ou ne contient qu'un seul élément, la retourner\n",
    "# sinon, fusionner le tri des deux moitiés de la liste T\n",
    "    \n",
    "def trifusion(T):\n",
    "    if len(T)<=1: return T\n",
    "    coupe=len(T)//2\n",
    "    return fusion(trifusion(T[0:coupe]),trifusion(T[coupe:]))   \n",
    "\n",
    "\n",
    "# trier cette liste à l'aide de cet algorithme\n",
    "\n",
    "L = [65, 31, 9, 32, 81, 82, 46, 12]\n",
    "print(trifusion(L))"
   ]
  },
  {
   "cell_type": "markdown",
   "metadata": {},
   "source": [
    "# Comparaison de la complexité de deux algorithmes de tri\n",
    "\n",
    "Objectif : comparaison les vitesses d’exécution des deux algorithmes de tri au programme de la partie informatique du module informatique du bac STAV.\n",
    "\n",
    "On souhaite représenter les vitesses d’exécution des deux algorithmes en fonction de la taille du tableau comme sur le graphique final ci-dessous\n",
    "\n",
    "<IMG SRC=\"tricomp.png\">\n",
    "\n",
    "## Exercice\n",
    "\n",
    "1.\tCréer une liste nommée « tailles » contenant tous les multiples de 100 compris entre 100 et 1400 inclus.\n",
    "\n",
    "&nbsp;&nbsp;&nbsp;&nbsp;&nbsp;&nbsp;a. Par extension\n",
    "\n",
    "&nbsp;&nbsp;&nbsp;&nbsp;&nbsp;&nbsp;b. Par ajouts successifs\n",
    "\n",
    "&nbsp;&nbsp;&nbsp;&nbsp;&nbsp;&nbsp;c. Par compréhension\n",
    "\n",
    "2.\tCréer une liste nommée « tableau » de 2000 nombres aléatoires choisis de manière uniforme dans l’intervalle $[0 ;1[$\n",
    "\n",
    "&nbsp;&nbsp;&nbsp;&nbsp;&nbsp;&nbsp;a. Par ajouts successifs\n",
    "\n",
    "&nbsp;&nbsp;&nbsp;&nbsp;&nbsp;&nbsp;b. Par compréhension\n"
   ]
  },
  {
   "cell_type": "code",
   "execution_count": 14,
   "metadata": {},
   "outputs": [],
   "source": [
    "# Solution question 1.a\n",
    "\n",
    "tailles = [100,200,300,400,500,600,700,800,900,1000,1100,1200,1300,1400]\n",
    "\n",
    "# Solution question 1.b\n",
    "\n",
    "tailles = [ ]\n",
    "for k in range(1,15):\n",
    "    tailles = tailles + [100*k]\n",
    "\n",
    "# Autre solution question 1.b\n",
    "\n",
    "tailles = [ ]\n",
    "for k in range(1,15):\n",
    "    tailles.append(100*k)\n",
    "\n",
    "# Solution question 1.c\n",
    "\n",
    "tailles=[100*k for k in range(1,15)]\n",
    "\n",
    "# Pour les deux questions a et b de la question 2, il ne faut pas oublier d'inclure random\n",
    "\n",
    "from random import random\n",
    "\n",
    "# Solution question 2.a\n",
    "\n",
    "tableau = []\n",
    "for k in range(2000):\n",
    "    tableau.append(random())\n",
    "\n",
    "# Solution question 2.b\n",
    "\n",
    "tableau = [random() for k in range(2000)] "
   ]
  },
  {
   "cell_type": "markdown",
   "metadata": {},
   "source": [
    "\n",
    "## Chronométrage\n",
    "\n",
    "Pour chronométrer des actions en Python, grâce à la bibliothèque `time`, on récupère l'heure de départ et l'heure de fin des actions et on en fait la différence de cette manière :"
   ]
  },
  {
   "cell_type": "code",
   "execution_count": 1,
   "metadata": {},
   "outputs": [],
   "source": [
    "import time\n",
    "début = time.perf_counter()\n",
    "    # Actions à chronométrer\n",
    "fin = time.perf_counter()\n",
    "durée = fin - début"
   ]
  },
  {
   "cell_type": "markdown",
   "metadata": {},
   "source": [
    "### Exercice\n",
    "\n",
    "Ecrire un programme en Python permettant de chronométrer le tri par sélection des 100 premières valeurs du tableau `tableau` de l'exercice précédent.\n"
   ]
  },
  {
   "cell_type": "code",
   "execution_count": 16,
   "metadata": {},
   "outputs": [
    {
     "name": "stdout",
     "output_type": "stream",
     "text": [
      "0.0006526789998133609\n"
     ]
    }
   ],
   "source": [
    "import time\n",
    "début = time.perf_counter()\n",
    "triSelection(tableau[0:99])\n",
    "fin = time.perf_counter()\n",
    "durée = fin - début\n",
    "print(durée)"
   ]
  },
  {
   "cell_type": "markdown",
   "metadata": {},
   "source": [
    "### Exercice\n",
    "\n",
    "1. A l’aide de la liste « tailles », écrire un programme en Python permettant de chronométrer le tri par sélection des 100 premières valeurs du tableau « tableau » et ranger les durées dans une liste nommé « yS ».\n",
    "3.\tFaire la même chose avec le tri par fusion et ranger les résultats dans une liste nommé « yF ».\n"
   ]
  },
  {
   "cell_type": "code",
   "execution_count": 17,
   "metadata": {},
   "outputs": [],
   "source": [
    "yS=[]   \n",
    "for k in tailles:\n",
    "    début = time.perf_counter()\n",
    "    triSelection(tableau[0:k-1])\n",
    "    fin = time.perf_counter()\n",
    "    yS.append(fin-début)\n",
    "\n",
    "yF=[]\n",
    "for k in tailles:\n",
    "    début = time.perf_counter()\n",
    "    trifusion(tableau[0:k-1])\n",
    "    fin = time.perf_counter()\n",
    "    yF.append(fin-début)"
   ]
  },
  {
   "cell_type": "markdown",
   "metadata": {},
   "source": [
    "### Exercice\n",
    "\n",
    "Afficher le graphique à l’aide du code suivant :"
   ]
  },
  {
   "cell_type": "code",
   "execution_count": 19,
   "metadata": {},
   "outputs": [
    {
     "data": {
      "image/png": "[encoded data removed]",
      "text/plain": [
       "<Figure size 432x288 with 1 Axes>"
      ]
     },
     "metadata": {
      "needs_background": "light"
     },
     "output_type": "display_data"
    }
   ],
   "source": [
    "import matplotlib.pyplot as graph\n",
    "graph.plot(tailles,yF,\"ro\")\n",
    "graph.plot(tailles,yS,\"bo\")\n",
    "graph.title(\"tri par fusion en rouge et par sélection en bleu\\n\"+\n",
    "                 \"vitesse d'exécution en fonction de la taille des données\")\n",
    "graph.show()"
   ]
  },
  {
   "cell_type": "markdown",
   "metadata": {},
   "source": [
    "Les points ne sont pas bien alignés car l’exécution des programmes se fait dans un environnement multitâche. Il se peut donc que le système fasse autre chose pendant la partie chronométrée (comme enregistrer ou scanner un fichier avec l’antivirus) pour que la mesure soit faussée. Il suffit alors de relancer le programme pour avoir une nouveau version en espérant que seul le programme soit exécuté.\n",
    "\n",
    "Pour la suite de l'exercice, on pourra chercher les équations de ces belles courbes (quadratiques)."
   ]
  }
 ],
 "metadata": {
  "kernelspec": {
   "display_name": "Python 3",
   "language": "python",
   "name": "python3"
  },
  "language_info": {
   "codemirror_mode": {
    "name": "ipython",
    "version": 3
   },
   "file_extension": ".py",
   "mimetype": "text/x-python",
   "name": "python",
   "nbconvert_exporter": "python",
   "pygments_lexer": "ipython3",
   "version": "3.7.1"
  }
 },
 "nbformat": 4,
 "nbformat_minor": 2
}
